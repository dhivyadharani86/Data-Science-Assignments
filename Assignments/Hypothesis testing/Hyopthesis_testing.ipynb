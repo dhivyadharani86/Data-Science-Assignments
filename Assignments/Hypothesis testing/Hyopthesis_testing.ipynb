{
 "cells": [
  {
   "cell_type": "markdown",
   "metadata": {},
   "source": [
    "**1. State the Hypotheses statement:**\n",
    "\n",
    "**Null Hypothesis(H0):**\n",
    "\n",
    "*The actual mean weekly operating cost follows cost model: W=1000+5X*\n",
    "\n",
    "*HO: μ=1000+5X*\n",
    "\n",
    "**Alternative Hypothesis (H₁):**\n",
    "\n",
    "*The actual mean weekly operating cost is greater than predicted cost model*\n",
    "\n",
    "*H1: μ>1000+5X*\n",
    "\n",
    "*This is a one-tailed test since we are testing whether the actual cost is higher.*\n",
    "\n",
    "\n"
   ]
  },
  {
   "cell_type": "markdown",
   "metadata": {},
   "source": [
    "**2.Calculate the Test Statistics:**\n",
    "Sample mean(𝑥)  = Rs. 3,050\n",
    "\n",
    "Theoretical mean weekly cost (μ0)=1000+5X , X=600\n",
    "\n",
    "μ0=1000+5(600)=Rs.4000\n",
    "\n",
    "Sample size n=25\n",
    "\n",
    "Population standard deviation (𝜎) = 5×25=125\n",
    "\n",
    "Test static=(x-μ0)/(𝜎/sq.rt(n))\n",
    "\n",
    "=(3050-4000)/(125/5)\n",
    "\n",
    "=-950/25\n",
    "\n",
    "***Test Statistic (z-value): -38.0***\n",
    "​"
   ]
  },
  {
   "cell_type": "code",
   "execution_count": 3,
   "metadata": {},
   "outputs": [
    {
     "name": "stdout",
     "output_type": "stream",
     "text": [
      "Test statistic: -38.0\n"
     ]
    }
   ],
   "source": [
    "# Calcualting with Python\n",
    "import math\n",
    "\n",
    "# Given data\n",
    "sample_mean_cost = 3050  # Sample mean weekly cost (Rs)\n",
    "theoretical_units_produced = 600  # Mean units produced in a week (μ)\n",
    "std_dev_units = 25  # Standard deviation of units produced (σ)\n",
    "sample_size = 25  # Sample size (n)\n",
    "\n",
    "# Theoretical weekly operating cost model: W = $1,000 + $5X\n",
    "theoretical_mean_cost = 1000 + 5 * theoretical_units_produced  # Theoretical weekly cost for X = 600 units\n",
    "\n",
    "# Standard deviation of the weekly cost (σ_w = 5 * σ)\n",
    "std_dev_weekly_cost = 5 * std_dev_units\n",
    "\n",
    "# Calculate the test statistic (t)\n",
    "t_statistic = (sample_mean_cost - theoretical_mean_cost) / (std_dev_weekly_cost / math.sqrt(sample_size))\n",
    "\n",
    "print(f\"Test statistic: {t_statistic}\")\n"
   ]
  },
  {
   "cell_type": "markdown",
   "metadata": {},
   "source": [
    "**3.Determine the Critical Value:**\n",
    "\n",
    "*Alpha (α) Level:*\n",
    "\n",
    "*The problem specifies an alpha level of 5% (α = 0.05), which represents the probability of rejecting the null hypothesis when it is actually true (Type I error).\n",
    "This is a one-tailed test, as we are only interested in whether the weekly operating costs are higher than the model suggests.*\n",
    "\n",
    "*Critical Value for a One-Tailed Test:*\n",
    "\n",
    "*For a one-tailed test with α = 0.05, we need to find the value from the standard normal (Z) distribution that leaves 5% of the probability in the right tail.\n",
    "Using the Z-distribution table or the statistical function ppf (percent point function), we calculate the critical value.*"
   ]
  },
  {
   "cell_type": "markdown",
   "metadata": {},
   "source": [
    "*Formula to Calculate Critical Value: The formula for calculating the critical value from the standard normal distribution is:*\n",
    "\n",
    "Zα=ppf(1−α)"
   ]
  },
  {
   "cell_type": "code",
   "execution_count": 1,
   "metadata": {},
   "outputs": [
    {
     "name": "stdout",
     "output_type": "stream",
     "text": [
      "Critical value: 1.6448536269514722\n"
     ]
    }
   ],
   "source": [
    "from scipy import stats\n",
    "# Given alpha level for one-tailed test\n",
    "alpha = 0.05\n",
    "# Calculate the critical value for a one-tailed test using the ppf (percent point function)\n",
    "critical_value = stats.norm.ppf(1 - alpha)\n",
    "\n",
    "print(f\"Critical value: {critical_value}\")\n"
   ]
  },
  {
   "cell_type": "markdown",
   "metadata": {},
   "source": [
    "**Decision**\n",
    "*The critical value for α = 0.05 is 1.645. This means that if our test statistic is greater than 1.645, we would reject the null hypothesis.*"
   ]
  },
  {
   "cell_type": "markdown",
   "metadata": {},
   "source": [
    "**Conclusion:** *Based on this analysis, there is no strong evidence to support the restaurant owners' claim that the weekly operating costs are higher than the model suggests. The observed difference is not statistically significant.*"
   ]
  }
 ],
 "metadata": {
  "kernelspec": {
   "display_name": "Python 3",
   "language": "python",
   "name": "python3"
  },
  "language_info": {
   "codemirror_mode": {
    "name": "ipython",
    "version": 3
   },
   "file_extension": ".py",
   "mimetype": "text/x-python",
   "name": "python",
   "nbconvert_exporter": "python",
   "pygments_lexer": "ipython3",
   "version": "3.12.4"
  }
 },
 "nbformat": 4,
 "nbformat_minor": 2
}
