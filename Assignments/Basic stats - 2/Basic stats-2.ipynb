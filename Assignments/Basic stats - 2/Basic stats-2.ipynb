{
 "cells": [
  {
   "cell_type": "markdown",
   "metadata": {},
   "source": [
    "Data:\n",
    "The manufacturer tests the durability of 15 print-heads. The data (durability in millions of characters before failure) is:\n",
    "\n",
    "1.13, 1.55, 1.43, 0.92, 1.25, 1.36, 1.32, 0.85, 1.07, 1.48, 1.20, 1.33, 1.18, 1.22, 1.29"
   ]
  },
  {
   "cell_type": "markdown",
   "metadata": {},
   "source": [
    "Task a: Build 99% Confidence Interval Using Sample Standard Deviation"
   ]
  },
  {
   "cell_type": "markdown",
   "metadata": {},
   "source": [
    "Steps:\n",
    "Compute Sample Mean \n",
    "Compute Sample Standard Deviation (s)\n",
    "t-Distribution\n",
    "Calcualting Confidence Interval "
   ]
  },
  {
   "cell_type": "code",
   "execution_count": 1,
   "metadata": {},
   "outputs": [
    {
     "data": {
      "text/plain": [
       "(1.2386666666666666,\n",
       " 0.19316412956959936,\n",
       " 2.97684273411266,\n",
       " (1.090197338451367, 1.3871359948819662))"
      ]
     },
     "execution_count": 1,
     "metadata": {},
     "output_type": "execute_result"
    }
   ],
   "source": [
    "import numpy as np\n",
    "import scipy.stats as stats\n",
    "\n",
    "# Data\n",
    "durability = [1.13, 1.55, 1.43, 0.92, 1.25, 1.36, 1.32, 0.85, 1.07, 1.48, 1.20, 1.33, 1.18, 1.22, 1.29]\n",
    "\n",
    "# Sample size\n",
    "n = len(durability)\n",
    "\n",
    "# Sample mean and sample standard deviation\n",
    "mean = np.mean(durability)\n",
    "std_dev = np.std(durability, ddof=1)\n",
    "\n",
    "# t critical value for 99% confidence and n-1 degrees of freedom\n",
    "t_critical = stats.t.ppf(0.995, df=n-1)\n",
    "\n",
    "# Margin of error\n",
    "margin_of_error = t_critical * (std_dev / np.sqrt(n))\n",
    "\n",
    "# Confidence Interval\n",
    "ci_lower = mean - margin_of_error\n",
    "ci_upper = mean + margin_of_error\n",
    "\n",
    "mean, std_dev"
   ]
  },
  {
   "cell_type": "code",
   "execution_count": 3,
   "metadata": {},
   "outputs": [
    {
     "data": {
      "text/plain": [
       "(2.97684273411266, (1.090197338451367, 1.3871359948819662))"
      ]
     },
     "execution_count": 3,
     "metadata": {},
     "output_type": "execute_result"
    }
   ],
   "source": [
    "t_critical, (ci_lower, ci_upper)"
   ]
  },
  {
   "cell_type": "markdown",
   "metadata": {},
   "source": [
    "Since the sample size is small (15) and the population standard deviation is unknown, the t-distribution is appropriate.\n",
    "The t-distribution accounts for the added uncertainty that comes from estimating the population standard deviation from the sample"
   ]
  },
  {
   "cell_type": "markdown",
   "metadata": {},
   "source": [
    "Task b: Build 99% Confidence Interval Using Known Population Standard Deviation"
   ]
  },
  {
   "cell_type": "markdown",
   "metadata": {},
   "source": [
    "Steps: Known population standard deviation ,z-Distribution,Calculating the Confidence Interval"
   ]
  },
  {
   "cell_type": "code",
   "execution_count": 2,
   "metadata": {},
   "outputs": [
    {
     "data": {
      "text/plain": [
       "(2.5758293035489004, (1.1056514133957607, 1.3716819199375725))"
      ]
     },
     "execution_count": 2,
     "metadata": {},
     "output_type": "execute_result"
    }
   ],
   "source": [
    "# Known population standard deviation\n",
    "pop_std_dev = 0.2\n",
    "\n",
    "# z critical value for 99% confidence\n",
    "z_critical = stats.norm.ppf(0.995)\n",
    "\n",
    "# Margin of error\n",
    "margin_of_error_known_std = z_critical * (pop_std_dev / np.sqrt(n))\n",
    "\n",
    "# Confidence Interval\n",
    "ci_lower_known_std = mean - margin_of_error_known_std\n",
    "ci_upper_known_std = mean + margin_of_error_known_std\n",
    "\n",
    "z_critical, (ci_lower_known_std, ci_upper_known_std)"
   ]
  },
  {
   "cell_type": "markdown",
   "metadata": {},
   "source": [
    "Results:"
   ]
  },
  {
   "cell_type": "code",
   "execution_count": 4,
   "metadata": {},
   "outputs": [
    {
     "data": {
      "text/plain": [
       "(2.97684273411266, (1.090197338451367, 1.3871359948819662))"
      ]
     },
     "execution_count": 4,
     "metadata": {},
     "output_type": "execute_result"
    }
   ],
   "source": [
    "t_critical, (ci_lower, ci_upper)"
   ]
  },
  {
   "cell_type": "markdown",
   "metadata": {},
   "source": [
    "99% Confidence Interval ((1.090197338451367, 1.3871359948819662)) . This means that we are 99% confident that the true mean durability of the print-heads lies between 1.090 and 1.387 million characters."
   ]
  },
  {
   "cell_type": "code",
   "execution_count": 5,
   "metadata": {},
   "outputs": [
    {
     "data": {
      "text/plain": [
       "(2.5758293035489004, (1.1056514133957607, 1.3716819199375725))"
      ]
     },
     "execution_count": 5,
     "metadata": {},
     "output_type": "execute_result"
    }
   ],
   "source": [
    "z_critical, (ci_lower_known_std, ci_upper_known_std)"
   ]
  },
  {
   "cell_type": "markdown",
   "metadata": {},
   "source": [
    "99% Confidence Interval:(1.106,1.372)\n",
    "This means that, assuming the population standard deviation is known, we are 99% confident that the true mean durability lies between 1.106 and 1.372 million characters."
   ]
  },
  {
   "cell_type": "markdown",
   "metadata": {},
   "source": [
    "In both cases, the confidence intervals provide a range of values where the true mean durability of the print-heads is likely to fall"
   ]
  },
  {
   "cell_type": "markdown",
   "metadata": {},
   "source": []
  }
 ],
 "metadata": {
  "kernelspec": {
   "display_name": "Python 3",
   "language": "python",
   "name": "python3"
  },
  "language_info": {
   "codemirror_mode": {
    "name": "ipython",
    "version": 3
   },
   "file_extension": ".py",
   "mimetype": "text/x-python",
   "name": "python",
   "nbconvert_exporter": "python",
   "pygments_lexer": "ipython3",
   "version": "3.12.4"
  }
 },
 "nbformat": 4,
 "nbformat_minor": 2
}
