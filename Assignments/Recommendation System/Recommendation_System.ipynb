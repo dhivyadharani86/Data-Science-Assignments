{
 "cells": [
  {
   "cell_type": "code",
   "execution_count": 1,
   "metadata": {},
   "outputs": [
    {
     "name": "stdout",
     "output_type": "stream",
     "text": [
      "   anime_id                              name  \\\n",
      "0     32281                    Kimi no Na wa.   \n",
      "1      5114  Fullmetal Alchemist: Brotherhood   \n",
      "2     28977                          Gintama°   \n",
      "3      9253                       Steins;Gate   \n",
      "4      9969                     Gintama&#039;   \n",
      "\n",
      "                                               genre   type episodes  rating  \\\n",
      "0               Drama, Romance, School, Supernatural  Movie        1    9.37   \n",
      "1  Action, Adventure, Drama, Fantasy, Magic, Mili...     TV       64    9.26   \n",
      "2  Action, Comedy, Historical, Parody, Samurai, S...     TV       51    9.25   \n",
      "3                                   Sci-Fi, Thriller     TV       24    9.17   \n",
      "4  Action, Comedy, Historical, Parody, Samurai, S...     TV       51    9.16   \n",
      "\n",
      "   members  \n",
      "0   200630  \n",
      "1   793665  \n",
      "2   114262  \n",
      "3   673572  \n",
      "4   151266  \n",
      "anime_id      0\n",
      "name          0\n",
      "genre        62\n",
      "type         25\n",
      "episodes      0\n",
      "rating      230\n",
      "members       0\n",
      "dtype: int64\n"
     ]
    }
   ],
   "source": [
    "import pandas as pd\n",
    "\n",
    "# Load the dataset\n",
    "df = pd.read_csv('anime.csv')\n",
    "\n",
    "# Display first few rows to understand the structure\n",
    "print(df.head())\n",
    "\n",
    "# Check for missing values\n",
    "print(df.isnull().sum())\n"
   ]
  },
  {
   "cell_type": "code",
   "execution_count": 6,
   "metadata": {},
   "outputs": [
    {
     "name": "stderr",
     "output_type": "stream",
     "text": [
      "C:\\Users\\dhivya.dharani\\AppData\\Local\\Temp\\ipykernel_24028\\1600558811.py:2: FutureWarning: A value is trying to be set on a copy of a DataFrame or Series through chained assignment using an inplace method.\n",
      "The behavior will change in pandas 3.0. This inplace method will never work because the intermediate object on which we are setting values always behaves as a copy.\n",
      "\n",
      "For example, when doing 'df[col].method(value, inplace=True)', try using 'df.method({col: value}, inplace=True)' or df[col] = df[col].method(value) instead, to perform the operation inplace on the original object.\n",
      "\n",
      "\n",
      "  df['rating'].fillna(df['rating'].mean(), inplace=True)\n",
      "C:\\Users\\dhivya.dharani\\AppData\\Local\\Temp\\ipykernel_24028\\1600558811.py:3: FutureWarning: A value is trying to be set on a copy of a DataFrame or Series through chained assignment using an inplace method.\n",
      "The behavior will change in pandas 3.0. This inplace method will never work because the intermediate object on which we are setting values always behaves as a copy.\n",
      "\n",
      "For example, when doing 'df[col].method(value, inplace=True)', try using 'df.method({col: value}, inplace=True)' or df[col] = df[col].method(value) instead, to perform the operation inplace on the original object.\n",
      "\n",
      "\n",
      "  df['episodes'].fillna(df['rating'].mean(), inplace=True)\n",
      "C:\\Users\\dhivya.dharani\\AppData\\Local\\Temp\\ipykernel_24028\\1600558811.py:4: FutureWarning: A value is trying to be set on a copy of a DataFrame or Series through chained assignment using an inplace method.\n",
      "The behavior will change in pandas 3.0. This inplace method will never work because the intermediate object on which we are setting values always behaves as a copy.\n",
      "\n",
      "For example, when doing 'df[col].method(value, inplace=True)', try using 'df.method({col: value}, inplace=True)' or df[col] = df[col].method(value) instead, to perform the operation inplace on the original object.\n",
      "\n",
      "\n",
      "  df['episodes'].replace('Unknown','0', inplace=True)\n"
     ]
    }
   ],
   "source": [
    "# Impute missing values with the mean for numerical columns\n",
    "df['rating'].fillna(df['rating'].mean(), inplace=True)\n",
    "df['episodes'].fillna(df['rating'].mean(), inplace=True)\n",
    "df['episodes'].replace('Unknown','0', inplace=True)\n",
    "# Drop rows with missing categorical data (e.g., genres)\n",
    "df.dropna(subset=['genre'], inplace=True)\n"
   ]
  },
  {
   "cell_type": "code",
   "execution_count": 7,
   "metadata": {},
   "outputs": [
    {
     "name": "stdout",
     "output_type": "stream",
     "text": [
      "<class 'pandas.core.frame.DataFrame'>\n",
      "Index: 12232 entries, 0 to 12293\n",
      "Data columns (total 50 columns):\n",
      " #   Column         Non-Null Count  Dtype  \n",
      "---  ------         --------------  -----  \n",
      " 0   anime_id       12232 non-null  int64  \n",
      " 1   name           12232 non-null  object \n",
      " 2   genre          12232 non-null  object \n",
      " 3   type           12210 non-null  object \n",
      " 4   episodes       12232 non-null  object \n",
      " 5   rating         12232 non-null  float64\n",
      " 6   members        12232 non-null  int64  \n",
      " 7   Action         12232 non-null  int64  \n",
      " 8   Adventure      12232 non-null  int64  \n",
      " 9   Cars           12232 non-null  int64  \n",
      " 10  Comedy         12232 non-null  int64  \n",
      " 11  Dementia       12232 non-null  int64  \n",
      " 12  Demons         12232 non-null  int64  \n",
      " 13  Drama          12232 non-null  int64  \n",
      " 14  Ecchi          12232 non-null  int64  \n",
      " 15  Fantasy        12232 non-null  int64  \n",
      " 16  Game           12232 non-null  int64  \n",
      " 17  Harem          12232 non-null  int64  \n",
      " 18  Hentai         12232 non-null  int64  \n",
      " 19  Historical     12232 non-null  int64  \n",
      " 20  Horror         12232 non-null  int64  \n",
      " 21  Josei          12232 non-null  int64  \n",
      " 22  Kids           12232 non-null  int64  \n",
      " 23  Magic          12232 non-null  int64  \n",
      " 24  Martial Arts   12232 non-null  int64  \n",
      " 25  Mecha          12232 non-null  int64  \n",
      " 26  Military       12232 non-null  int64  \n",
      " 27  Music          12232 non-null  int64  \n",
      " 28  Mystery        12232 non-null  int64  \n",
      " 29  Parody         12232 non-null  int64  \n",
      " 30  Police         12232 non-null  int64  \n",
      " 31  Psychological  12232 non-null  int64  \n",
      " 32  Romance        12232 non-null  int64  \n",
      " 33  Samurai        12232 non-null  int64  \n",
      " 34  School         12232 non-null  int64  \n",
      " 35  Sci-Fi         12232 non-null  int64  \n",
      " 36  Seinen         12232 non-null  int64  \n",
      " 37  Shoujo         12232 non-null  int64  \n",
      " 38  Shoujo Ai      12232 non-null  int64  \n",
      " 39  Shounen        12232 non-null  int64  \n",
      " 40  Shounen Ai     12232 non-null  int64  \n",
      " 41  Slice of Life  12232 non-null  int64  \n",
      " 42  Space          12232 non-null  int64  \n",
      " 43  Sports         12232 non-null  int64  \n",
      " 44  Super Power    12232 non-null  int64  \n",
      " 45  Supernatural   12232 non-null  int64  \n",
      " 46  Thriller       12232 non-null  int64  \n",
      " 47  Vampire        12232 non-null  int64  \n",
      " 48  Yaoi           12232 non-null  int64  \n",
      " 49  Yuri           12232 non-null  int64  \n",
      "dtypes: float64(1), int64(45), object(4)\n",
      "memory usage: 4.8+ MB\n",
      "None\n",
      "           anime_id        rating       members        Action     Adventure  \\\n",
      "count  12232.000000  12232.000000  1.223200e+04  12232.000000  12232.000000   \n",
      "mean   13970.041530      6.478187  1.815922e+04      0.232587      0.191956   \n",
      "std    11415.656332      1.014818  5.494528e+04      0.422498      0.393854   \n",
      "min        1.000000      1.670000  5.000000e+00      0.000000      0.000000   \n",
      "25%     3465.750000      5.900000  2.297500e+02      0.000000      0.000000   \n",
      "50%    10199.500000      6.550000  1.572000e+03      0.000000      0.000000   \n",
      "75%    24544.500000      7.170000  9.494000e+03      0.000000      0.000000   \n",
      "max    34527.000000     10.000000  1.013917e+06      1.000000      1.000000   \n",
      "\n",
      "               Cars        Comedy      Dementia        Demons         Drama  \\\n",
      "count  12232.000000  12232.000000  12232.000000  12232.000000  12232.000000   \n",
      "mean       0.005886      0.379742      0.019621      0.024035      0.164814   \n",
      "std        0.076499      0.485342      0.138698      0.153165      0.371027   \n",
      "min        0.000000      0.000000      0.000000      0.000000      0.000000   \n",
      "25%        0.000000      0.000000      0.000000      0.000000      0.000000   \n",
      "50%        0.000000      0.000000      0.000000      0.000000      0.000000   \n",
      "75%        0.000000      1.000000      0.000000      0.000000      0.000000   \n",
      "max        1.000000      1.000000      1.000000      1.000000      1.000000   \n",
      "\n",
      "       ...    Shounen Ai  Slice of Life         Space        Sports  \\\n",
      "count  ...  12232.000000   12232.000000  12232.000000  12232.000000   \n",
      "mean   ...      0.005314       0.099738      0.031148      0.044392   \n",
      "std    ...      0.072706       0.299663      0.173724      0.205972   \n",
      "min    ...      0.000000       0.000000      0.000000      0.000000   \n",
      "25%    ...      0.000000       0.000000      0.000000      0.000000   \n",
      "50%    ...      0.000000       0.000000      0.000000      0.000000   \n",
      "75%    ...      0.000000       0.000000      0.000000      0.000000   \n",
      "max    ...      1.000000       1.000000      1.000000      1.000000   \n",
      "\n",
      "        Super Power  Supernatural      Thriller       Vampire          Yaoi  \\\n",
      "count  12232.000000  12232.000000  12232.000000  12232.000000  12232.000000   \n",
      "mean       0.038015      0.084778      0.007112      0.008339      0.003188   \n",
      "std        0.191240      0.278562      0.084039      0.090939      0.056378   \n",
      "min        0.000000      0.000000      0.000000      0.000000      0.000000   \n",
      "25%        0.000000      0.000000      0.000000      0.000000      0.000000   \n",
      "50%        0.000000      0.000000      0.000000      0.000000      0.000000   \n",
      "75%        0.000000      0.000000      0.000000      0.000000      0.000000   \n",
      "max        1.000000      1.000000      1.000000      1.000000      1.000000   \n",
      "\n",
      "               Yuri  \n",
      "count  12232.000000  \n",
      "mean       0.003434  \n",
      "std        0.058499  \n",
      "min        0.000000  \n",
      "25%        0.000000  \n",
      "50%        0.000000  \n",
      "75%        0.000000  \n",
      "max        1.000000  \n",
      "\n",
      "[8 rows x 46 columns]\n",
      "['Drama, Romance, School, Supernatural'\n",
      " 'Action, Adventure, Drama, Fantasy, Magic, Military, Shounen'\n",
      " 'Action, Comedy, Historical, Parody, Samurai, Sci-Fi, Shounen' ...\n",
      " 'Hentai, Sports' 'Drama, Romance, School, Yuri' 'Hentai, Slice of Life']\n"
     ]
    }
   ],
   "source": [
    "# Check the columns and types of data\n",
    "print(df.info())\n",
    "\n",
    "# Explore basic statistics for numerical data\n",
    "print(df.describe())\n",
    "\n",
    "# Look at unique genres\n",
    "print(df['genre'].unique())\n"
   ]
  },
  {
   "cell_type": "code",
   "execution_count": 8,
   "metadata": {},
   "outputs": [],
   "source": [
    "# One-hot encode the genres\n",
    "df_genres = df['genre'].str.get_dummies(sep=', ')\n",
    "\n",
    "# Combine the one-hot encoded genres with the original data (excluding the original 'genres' column)\n",
    "df = pd.concat([df, df_genres], axis=1)\n"
   ]
  },
  {
   "cell_type": "code",
   "execution_count": 9,
   "metadata": {},
   "outputs": [],
   "source": [
    "from sklearn.preprocessing import MinMaxScaler\n",
    "\n",
    "# Normalize numerical columns\n",
    "scaler = MinMaxScaler()\n",
    "df[['rating', 'episodes']] = scaler.fit_transform(df[['rating', 'episodes']])\n"
   ]
  },
  {
   "cell_type": "code",
   "execution_count": 10,
   "metadata": {},
   "outputs": [],
   "source": [
    "from sklearn.metrics.pairwise import cosine_similarity\n",
    "\n",
    "# Select relevant features (normalized user_rating, num_episodes, and one-hot encoded genres)\n",
    "features = df[['rating', 'episodes'] + list(df.columns[df.columns.str.startswith('genre_')])]\n",
    "\n",
    "# Compute the cosine similarity matrix\n",
    "cosine_sim = cosine_similarity(features)\n",
    "\n",
    "# Store the similarity scores for each anime\n",
    "cosine_sim_df = pd.DataFrame(cosine_sim, index=df['name'], columns=df['name'])\n"
   ]
  },
  {
   "cell_type": "code",
   "execution_count": 11,
   "metadata": {},
   "outputs": [
    {
     "name": "stdout",
     "output_type": "stream",
     "text": [
      "name\n",
      "Yadamon                        0.999993\n",
      "Gatapishi                      0.999990\n",
      "Pokemon Advanced Generation    0.999988\n",
      "Kappamaki                      0.999984\n",
      "Tetsuwan Atom                  0.999980\n",
      "Pokemon Diamond &amp; Pearl    0.999978\n",
      "Obocchama-kun                  0.999972\n",
      "Dokaben                        0.999960\n",
      "Urikupen Kyuujo-tai            0.999955\n",
      "Yu☆Gi☆Oh! Duel Monsters        0.999955\n",
      "Name: Naruto, dtype: float64\n"
     ]
    }
   ],
   "source": [
    "def recommend_anime(target_anime, cosine_sim_df, top_n=10, threshold=0.5):\n",
    "    # Get the cosine similarity scores for the target anime\n",
    "    sim_scores = cosine_sim_df[target_anime]\n",
    "    \n",
    "    # Sort the scores in descending order and filter based on the threshold\n",
    "    similar_animes = sim_scores[sim_scores > threshold].sort_values(ascending=False)\n",
    "    \n",
    "    # Exclude the target anime itself from the recommendations\n",
    "    similar_animes = similar_animes.drop(target_anime)\n",
    "    \n",
    "    # Return top N recommendations\n",
    "    return similar_animes.head(top_n)\n",
    "\n",
    "# Example: Recommend anime similar to \"Naruto\"\n",
    "recommendations = recommend_anime('Naruto', cosine_sim_df)\n",
    "print(recommendations)\n"
   ]
  },
  {
   "cell_type": "code",
   "execution_count": 12,
   "metadata": {},
   "outputs": [],
   "source": [
    "from sklearn.model_selection import train_test_split\n",
    "\n",
    "# Split the dataset into a training and testing set (e.g., 80% training, 20% testing)\n",
    "X_train, X_test = train_test_split(df, test_size=0.2, random_state=42)\n",
    "\n",
    "# Example of using the training set to train the recommendation system (e.g., by fitting models if needed)\n"
   ]
  },
  {
   "cell_type": "code",
   "execution_count": 13,
   "metadata": {},
   "outputs": [
    {
     "name": "stdout",
     "output_type": "stream",
     "text": [
      "Precision: 0.6666666666666666\n",
      "Recall: 0.6666666666666666\n",
      "F1-score: 0.6666666666666666\n"
     ]
    }
   ],
   "source": [
    "from sklearn.metrics import precision_score, recall_score, f1_score\n",
    "\n",
    "# Assuming we have binary labels for evaluation (relevant or not relevant recommendations)\n",
    "# This is just an example as calculating these metrics would depend on the available data.\n",
    "# Here, we're simulating binary labels for each recommendation.\n",
    "y_true = [1, 1, 0, 1, 0]  # Simulated ground truth (1=relevant, 0=not relevant)\n",
    "y_pred = [1, 0, 0, 1, 1]  # Simulated predicted (relevant recommendations)\n",
    "\n",
    "# Calculate precision, recall, and F1-score\n",
    "precision = precision_score(y_true, y_pred)\n",
    "recall = recall_score(y_true, y_pred)\n",
    "f1 = f1_score(y_true, y_pred)\n",
    "\n",
    "print(f\"Precision: {precision}\")\n",
    "print(f\"Recall: {recall}\")\n",
    "print(f\"F1-score: {f1}\")\n"
   ]
  },
  {
   "cell_type": "markdown",
   "metadata": {},
   "source": [
    "1. Difference Between User-Based and Item-Based Collaborative Filtering:\n",
    "\n",
    "User-Based Collaborative Filtering: This method recommends items by finding similar users. For example, if User A and User B have rated similar anime, the system will recommend anime that User B has liked to User A.\n",
    "Item-Based Collaborative Filtering: This method recommends items based on similarity between items. For example, if you liked \"Naruto,\" the system will recommend other anime that are similar to \"Naruto\" (based on ratings or content similarity).\n",
    "\n",
    "2. What is Collaborative Filtering, and How Does It Work?:\n",
    "\n",
    "Collaborative Filtering is a method used to make automatic predictions about a user's interests by collecting preferences or taste information from many users. The idea is to recommend items (e.g., anime) based on the preferences of similar users or based on similarities between items. This can be user-based or item-based."
   ]
  }
 ],
 "metadata": {
  "kernelspec": {
   "display_name": "Python 3",
   "language": "python",
   "name": "python3"
  },
  "language_info": {
   "codemirror_mode": {
    "name": "ipython",
    "version": 3
   },
   "file_extension": ".py",
   "mimetype": "text/x-python",
   "name": "python",
   "nbconvert_exporter": "python",
   "pygments_lexer": "ipython3",
   "version": "3.13.0"
  }
 },
 "nbformat": 4,
 "nbformat_minor": 2
}
