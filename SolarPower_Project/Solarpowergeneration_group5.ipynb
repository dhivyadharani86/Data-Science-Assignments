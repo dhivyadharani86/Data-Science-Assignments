{
  "cells": [
    {
      "cell_type": "code",
      "execution_count": 155,
      "metadata": {
        "id": "lqBN4sl0Njdi"
      },
      "outputs": [],
      "source": [
        "import pandas as pd\n",
        "import numpy as np\n",
        "import matplotlib.pyplot as plt\n",
        "import seaborn as sns"
      ]
    },
    {
      "cell_type": "markdown",
      "metadata": {
        "id": "IK96gAuLPeSj"
      },
      "source": [
        "#EDA (Exploratory Data Analysis)"
      ]
    },
    {
      "cell_type": "markdown",
      "metadata": {
        "id": "7GDMr1v-x3V2"
      },
      "source": [
        "1. Data Cleaning and Preprocessing"
      ]
    },
    {
      "cell_type": "code",
      "execution_count": 156,
      "metadata": {
        "colab": {
          "base_uri": "https://localhost:8080/",
          "height": 73
        },
        "id": "hTzx1K3z2ehO",
        "outputId": "c644f433-2001-421a-953a-a9719ee93fbf"
      },
      "outputs": [],
      "source": [
        "# from google.colab import files\n",
        "# uploaded= files.upload()"
      ]
    },
    {
      "cell_type": "code",
      "execution_count": 157,
      "metadata": {
        "id": "EMDZ69Hh2pCg"
      },
      "outputs": [],
      "source": [
        "# importing the dataset\n",
        "df = pd.read_csv(\"solarpowergeneration.csv\")"
      ]
    },
    {
      "cell_type": "markdown",
      "metadata": {
        "id": "kTY8EGz-Q40u"
      },
      "source": [
        "To figure out how many rows and columns are there in our dataset"
      ]
    },
    {
      "cell_type": "code",
      "execution_count": 158,
      "metadata": {
        "colab": {
          "base_uri": "https://localhost:8080/"
        },
        "id": "4dnc7pDcQxx9",
        "outputId": "194add55-e0bd-4fb1-9f07-1c756301c79a"
      },
      "outputs": [
        {
          "data": {
            "text/plain": [
              "(2920, 10)"
            ]
          },
          "execution_count": 158,
          "metadata": {},
          "output_type": "execute_result"
        }
      ],
      "source": [
        "df.shape"
      ]
    },
    {
      "cell_type": "markdown",
      "metadata": {
        "id": "amBPdPqnRFn5"
      },
      "source": [
        "for checking of header column in the dataset"
      ]
    },
    {
      "cell_type": "code",
      "execution_count": 159,
      "metadata": {
        "colab": {
          "base_uri": "https://localhost:8080/",
          "height": 258
        },
        "id": "8fNW4wemPSkh",
        "outputId": "71cd6eb7-2905-4111-ddfe-391fcb4eb3a4"
      },
      "outputs": [
        {
          "data": {
            "text/html": [
              "<div>\n",
              "<style scoped>\n",
              "    .dataframe tbody tr th:only-of-type {\n",
              "        vertical-align: middle;\n",
              "    }\n",
              "\n",
              "    .dataframe tbody tr th {\n",
              "        vertical-align: top;\n",
              "    }\n",
              "\n",
              "    .dataframe thead th {\n",
              "        text-align: right;\n",
              "    }\n",
              "</style>\n",
              "<table border=\"1\" class=\"dataframe\">\n",
              "  <thead>\n",
              "    <tr style=\"text-align: right;\">\n",
              "      <th></th>\n",
              "      <th>distance-to-solar-noon</th>\n",
              "      <th>temperature</th>\n",
              "      <th>wind-direction</th>\n",
              "      <th>wind-speed</th>\n",
              "      <th>sky-cover</th>\n",
              "      <th>visibility</th>\n",
              "      <th>humidity</th>\n",
              "      <th>average-wind-speed-(period)</th>\n",
              "      <th>average-pressure-(period)</th>\n",
              "      <th>power-generated</th>\n",
              "    </tr>\n",
              "  </thead>\n",
              "  <tbody>\n",
              "    <tr>\n",
              "      <th>0</th>\n",
              "      <td>0.859897</td>\n",
              "      <td>69</td>\n",
              "      <td>28</td>\n",
              "      <td>7.5</td>\n",
              "      <td>0</td>\n",
              "      <td>10.0</td>\n",
              "      <td>75</td>\n",
              "      <td>8.0</td>\n",
              "      <td>29.82</td>\n",
              "      <td>0</td>\n",
              "    </tr>\n",
              "    <tr>\n",
              "      <th>1</th>\n",
              "      <td>0.628535</td>\n",
              "      <td>69</td>\n",
              "      <td>28</td>\n",
              "      <td>7.5</td>\n",
              "      <td>0</td>\n",
              "      <td>10.0</td>\n",
              "      <td>77</td>\n",
              "      <td>5.0</td>\n",
              "      <td>29.85</td>\n",
              "      <td>0</td>\n",
              "    </tr>\n",
              "    <tr>\n",
              "      <th>2</th>\n",
              "      <td>0.397172</td>\n",
              "      <td>69</td>\n",
              "      <td>28</td>\n",
              "      <td>7.5</td>\n",
              "      <td>0</td>\n",
              "      <td>10.0</td>\n",
              "      <td>70</td>\n",
              "      <td>0.0</td>\n",
              "      <td>29.89</td>\n",
              "      <td>5418</td>\n",
              "    </tr>\n",
              "    <tr>\n",
              "      <th>3</th>\n",
              "      <td>0.165810</td>\n",
              "      <td>69</td>\n",
              "      <td>28</td>\n",
              "      <td>7.5</td>\n",
              "      <td>0</td>\n",
              "      <td>10.0</td>\n",
              "      <td>33</td>\n",
              "      <td>0.0</td>\n",
              "      <td>29.91</td>\n",
              "      <td>25477</td>\n",
              "    </tr>\n",
              "    <tr>\n",
              "      <th>4</th>\n",
              "      <td>0.065553</td>\n",
              "      <td>69</td>\n",
              "      <td>28</td>\n",
              "      <td>7.5</td>\n",
              "      <td>0</td>\n",
              "      <td>10.0</td>\n",
              "      <td>21</td>\n",
              "      <td>3.0</td>\n",
              "      <td>29.89</td>\n",
              "      <td>30069</td>\n",
              "    </tr>\n",
              "  </tbody>\n",
              "</table>\n",
              "</div>"
            ],
            "text/plain": [
              "   distance-to-solar-noon  temperature  wind-direction  wind-speed  sky-cover  \\\n",
              "0                0.859897           69              28         7.5          0   \n",
              "1                0.628535           69              28         7.5          0   \n",
              "2                0.397172           69              28         7.5          0   \n",
              "3                0.165810           69              28         7.5          0   \n",
              "4                0.065553           69              28         7.5          0   \n",
              "\n",
              "   visibility  humidity  average-wind-speed-(period)  \\\n",
              "0        10.0        75                          8.0   \n",
              "1        10.0        77                          5.0   \n",
              "2        10.0        70                          0.0   \n",
              "3        10.0        33                          0.0   \n",
              "4        10.0        21                          3.0   \n",
              "\n",
              "   average-pressure-(period)  power-generated  \n",
              "0                      29.82                0  \n",
              "1                      29.85                0  \n",
              "2                      29.89             5418  \n",
              "3                      29.91            25477  \n",
              "4                      29.89            30069  "
            ]
          },
          "execution_count": 159,
          "metadata": {},
          "output_type": "execute_result"
        }
      ],
      "source": [
        "df.head()"
      ]
    },
    {
      "cell_type": "markdown",
      "metadata": {
        "id": "SWJnKMGhRdqT"
      },
      "source": [
        "As a part of Data Cleaning and Preparation we have to check for Load the dataset into a DataFrame or equivalent data structure.\n",
        "Handle missing values appropriately (e.g., imputation, deletion).\n",
        "Identify and correct any inconsistencies in data types (e.g., numerical values stored as strings).\n",
        "Detect and treat outliers if necessary.\n"
      ]
    },
    {
      "cell_type": "code",
      "execution_count": 160,
      "metadata": {
        "colab": {
          "base_uri": "https://localhost:8080/"
        },
        "id": "H0k5NONiPXa-",
        "outputId": "f3eddd14-80b1-4125-c0ab-f89260ee4885"
      },
      "outputs": [
        {
          "name": "stdout",
          "output_type": "stream",
          "text": [
            "<class 'pandas.core.frame.DataFrame'>\n",
            "RangeIndex: 2920 entries, 0 to 2919\n",
            "Data columns (total 10 columns):\n",
            " #   Column                       Non-Null Count  Dtype  \n",
            "---  ------                       --------------  -----  \n",
            " 0   distance-to-solar-noon       2920 non-null   float64\n",
            " 1   temperature                  2920 non-null   int64  \n",
            " 2   wind-direction               2920 non-null   int64  \n",
            " 3   wind-speed                   2920 non-null   float64\n",
            " 4   sky-cover                    2920 non-null   int64  \n",
            " 5   visibility                   2920 non-null   float64\n",
            " 6   humidity                     2920 non-null   int64  \n",
            " 7   average-wind-speed-(period)  2919 non-null   float64\n",
            " 8   average-pressure-(period)    2920 non-null   float64\n",
            " 9   power-generated              2920 non-null   int64  \n",
            "dtypes: float64(5), int64(5)\n",
            "memory usage: 228.3 KB\n"
          ]
        }
      ],
      "source": [
        "df.info()"
      ]
    },
    {
      "cell_type": "code",
      "execution_count": 161,
      "metadata": {
        "colab": {
          "base_uri": "https://localhost:8080/"
        },
        "id": "YuVUmKN6RtfX",
        "outputId": "0940367c-baf2-415b-dbc7-b3be8feaf061"
      },
      "outputs": [
        {
          "name": "stdout",
          "output_type": "stream",
          "text": [
            "Null counts for columns:\n",
            "\n",
            " 0    9\n",
            "1    1\n",
            "Name: count, dtype: int64 /n\n",
            "Null percentage for columns:\n",
            "\n",
            " 0.000000    9\n",
            "0.034247    1\n",
            "Name: count, dtype: int64\n"
          ]
        }
      ],
      "source": [
        "# As a part of Data cleansing we check the data for missing values/ null values\n",
        "# null counts for columns\n",
        "null_count_col = df.isnull().sum().value_counts(ascending=False)\n",
        "null_count_col\n",
        "\n",
        "# null percentage for columns\n",
        "null_per_col =(df.isnull().sum() * 100 / len(df)).value_counts(ascending=False)\n",
        "null_per_col\n",
        "\n",
        "print(\"Null counts for columns:\\n\\n\", null_count_col, \"/n\")\n",
        "print(\"Null percentage for columns:\\n\\n\", null_per_col)"
      ]
    },
    {
      "cell_type": "code",
      "execution_count": 162,
      "metadata": {
        "colab": {
          "base_uri": "https://localhost:8080/",
          "height": 372
        },
        "id": "T1_hOVyePaWc",
        "outputId": "421d1689-f4a6-49fc-d3dd-97c0eb5b4b81"
      },
      "outputs": [
        {
          "data": {
            "text/html": [
              "<div>\n",
              "<style scoped>\n",
              "    .dataframe tbody tr th:only-of-type {\n",
              "        vertical-align: middle;\n",
              "    }\n",
              "\n",
              "    .dataframe tbody tr th {\n",
              "        vertical-align: top;\n",
              "    }\n",
              "\n",
              "    .dataframe thead th {\n",
              "        text-align: right;\n",
              "    }\n",
              "</style>\n",
              "<table border=\"1\" class=\"dataframe\">\n",
              "  <thead>\n",
              "    <tr style=\"text-align: right;\">\n",
              "      <th></th>\n",
              "      <th>distance-to-solar-noon</th>\n",
              "      <th>temperature</th>\n",
              "      <th>wind-direction</th>\n",
              "      <th>wind-speed</th>\n",
              "      <th>sky-cover</th>\n",
              "      <th>visibility</th>\n",
              "      <th>humidity</th>\n",
              "      <th>average-wind-speed-(period)</th>\n",
              "      <th>average-pressure-(period)</th>\n",
              "      <th>power-generated</th>\n",
              "    </tr>\n",
              "  </thead>\n",
              "  <tbody>\n",
              "    <tr>\n",
              "      <th>count</th>\n",
              "      <td>2920.000000</td>\n",
              "      <td>2920.000000</td>\n",
              "      <td>2920.000000</td>\n",
              "      <td>2920.000000</td>\n",
              "      <td>2920.000000</td>\n",
              "      <td>2920.000000</td>\n",
              "      <td>2920.000000</td>\n",
              "      <td>2919.000000</td>\n",
              "      <td>2920.000000</td>\n",
              "      <td>2920.000000</td>\n",
              "    </tr>\n",
              "    <tr>\n",
              "      <th>mean</th>\n",
              "      <td>0.503294</td>\n",
              "      <td>58.468493</td>\n",
              "      <td>24.953425</td>\n",
              "      <td>10.096986</td>\n",
              "      <td>1.987671</td>\n",
              "      <td>9.557705</td>\n",
              "      <td>73.513699</td>\n",
              "      <td>10.129154</td>\n",
              "      <td>30.017760</td>\n",
              "      <td>6979.846233</td>\n",
              "    </tr>\n",
              "    <tr>\n",
              "      <th>std</th>\n",
              "      <td>0.298024</td>\n",
              "      <td>6.841200</td>\n",
              "      <td>6.915178</td>\n",
              "      <td>4.838185</td>\n",
              "      <td>1.411978</td>\n",
              "      <td>1.383884</td>\n",
              "      <td>15.077139</td>\n",
              "      <td>7.261547</td>\n",
              "      <td>0.142006</td>\n",
              "      <td>10312.336413</td>\n",
              "    </tr>\n",
              "    <tr>\n",
              "      <th>min</th>\n",
              "      <td>0.050401</td>\n",
              "      <td>42.000000</td>\n",
              "      <td>1.000000</td>\n",
              "      <td>1.100000</td>\n",
              "      <td>0.000000</td>\n",
              "      <td>0.000000</td>\n",
              "      <td>14.000000</td>\n",
              "      <td>0.000000</td>\n",
              "      <td>29.480000</td>\n",
              "      <td>0.000000</td>\n",
              "    </tr>\n",
              "    <tr>\n",
              "      <th>25%</th>\n",
              "      <td>0.243714</td>\n",
              "      <td>53.000000</td>\n",
              "      <td>25.000000</td>\n",
              "      <td>6.600000</td>\n",
              "      <td>1.000000</td>\n",
              "      <td>10.000000</td>\n",
              "      <td>65.000000</td>\n",
              "      <td>5.000000</td>\n",
              "      <td>29.920000</td>\n",
              "      <td>0.000000</td>\n",
              "    </tr>\n",
              "    <tr>\n",
              "      <th>50%</th>\n",
              "      <td>0.478957</td>\n",
              "      <td>59.000000</td>\n",
              "      <td>27.000000</td>\n",
              "      <td>10.000000</td>\n",
              "      <td>2.000000</td>\n",
              "      <td>10.000000</td>\n",
              "      <td>77.000000</td>\n",
              "      <td>9.000000</td>\n",
              "      <td>30.000000</td>\n",
              "      <td>404.000000</td>\n",
              "    </tr>\n",
              "    <tr>\n",
              "      <th>75%</th>\n",
              "      <td>0.739528</td>\n",
              "      <td>63.000000</td>\n",
              "      <td>29.000000</td>\n",
              "      <td>13.100000</td>\n",
              "      <td>3.000000</td>\n",
              "      <td>10.000000</td>\n",
              "      <td>84.000000</td>\n",
              "      <td>15.000000</td>\n",
              "      <td>30.110000</td>\n",
              "      <td>12723.500000</td>\n",
              "    </tr>\n",
              "    <tr>\n",
              "      <th>max</th>\n",
              "      <td>1.141361</td>\n",
              "      <td>78.000000</td>\n",
              "      <td>36.000000</td>\n",
              "      <td>26.600000</td>\n",
              "      <td>4.000000</td>\n",
              "      <td>10.000000</td>\n",
              "      <td>100.000000</td>\n",
              "      <td>40.000000</td>\n",
              "      <td>30.530000</td>\n",
              "      <td>36580.000000</td>\n",
              "    </tr>\n",
              "  </tbody>\n",
              "</table>\n",
              "</div>"
            ],
            "text/plain": [
              "       distance-to-solar-noon  temperature  wind-direction   wind-speed  \\\n",
              "count             2920.000000  2920.000000     2920.000000  2920.000000   \n",
              "mean                 0.503294    58.468493       24.953425    10.096986   \n",
              "std                  0.298024     6.841200        6.915178     4.838185   \n",
              "min                  0.050401    42.000000        1.000000     1.100000   \n",
              "25%                  0.243714    53.000000       25.000000     6.600000   \n",
              "50%                  0.478957    59.000000       27.000000    10.000000   \n",
              "75%                  0.739528    63.000000       29.000000    13.100000   \n",
              "max                  1.141361    78.000000       36.000000    26.600000   \n",
              "\n",
              "         sky-cover   visibility     humidity  average-wind-speed-(period)  \\\n",
              "count  2920.000000  2920.000000  2920.000000                  2919.000000   \n",
              "mean      1.987671     9.557705    73.513699                    10.129154   \n",
              "std       1.411978     1.383884    15.077139                     7.261547   \n",
              "min       0.000000     0.000000    14.000000                     0.000000   \n",
              "25%       1.000000    10.000000    65.000000                     5.000000   \n",
              "50%       2.000000    10.000000    77.000000                     9.000000   \n",
              "75%       3.000000    10.000000    84.000000                    15.000000   \n",
              "max       4.000000    10.000000   100.000000                    40.000000   \n",
              "\n",
              "       average-pressure-(period)  power-generated  \n",
              "count                2920.000000      2920.000000  \n",
              "mean                   30.017760      6979.846233  \n",
              "std                     0.142006     10312.336413  \n",
              "min                    29.480000         0.000000  \n",
              "25%                    29.920000         0.000000  \n",
              "50%                    30.000000       404.000000  \n",
              "75%                    30.110000     12723.500000  \n",
              "max                    30.530000     36580.000000  "
            ]
          },
          "execution_count": 162,
          "metadata": {},
          "output_type": "execute_result"
        }
      ],
      "source": [
        "df.describe()"
      ]
    },
    {
      "cell_type": "code",
      "execution_count": 163,
      "metadata": {
        "colab": {
          "base_uri": "https://localhost:8080/"
        },
        "id": "GiT0QcrMSMsn",
        "outputId": "258c24c6-9819-4cbb-976c-f712a645c987"
      },
      "outputs": [
        {
          "data": {
            "text/plain": [
              "Index(['distance-to-solar-noon', 'temperature', 'wind-direction', 'wind-speed',\n",
              "       'sky-cover', 'visibility', 'humidity', 'average-wind-speed-(period)',\n",
              "       'average-pressure-(period)', 'power-generated'],\n",
              "      dtype='object')"
            ]
          },
          "execution_count": 163,
          "metadata": {},
          "output_type": "execute_result"
        }
      ],
      "source": [
        "df.columns"
      ]
    },
    {
      "cell_type": "code",
      "execution_count": 164,
      "metadata": {
        "colab": {
          "base_uri": "https://localhost:8080/",
          "height": 495
        },
        "id": "YkJdHPKySTj8",
        "outputId": "bb04c289-216d-472c-da17-28fe4caf9e62"
      },
      "outputs": [
        {
          "data": {
            "text/html": [
              "<div>\n",
              "<style scoped>\n",
              "    .dataframe tbody tr th:only-of-type {\n",
              "        vertical-align: middle;\n",
              "    }\n",
              "\n",
              "    .dataframe tbody tr th {\n",
              "        vertical-align: top;\n",
              "    }\n",
              "\n",
              "    .dataframe thead th {\n",
              "        text-align: right;\n",
              "    }\n",
              "</style>\n",
              "<table border=\"1\" class=\"dataframe\">\n",
              "  <thead>\n",
              "    <tr style=\"text-align: right;\">\n",
              "      <th></th>\n",
              "      <th>distance-to-solar-noon</th>\n",
              "      <th>temperature</th>\n",
              "      <th>wind-direction</th>\n",
              "      <th>wind-speed</th>\n",
              "      <th>sky-cover</th>\n",
              "      <th>visibility</th>\n",
              "      <th>humidity</th>\n",
              "      <th>average-wind-speed-(period)</th>\n",
              "      <th>average-pressure-(period)</th>\n",
              "      <th>power-generated</th>\n",
              "    </tr>\n",
              "  </thead>\n",
              "  <tbody>\n",
              "    <tr>\n",
              "      <th>0</th>\n",
              "      <td>False</td>\n",
              "      <td>False</td>\n",
              "      <td>False</td>\n",
              "      <td>False</td>\n",
              "      <td>False</td>\n",
              "      <td>False</td>\n",
              "      <td>False</td>\n",
              "      <td>False</td>\n",
              "      <td>False</td>\n",
              "      <td>False</td>\n",
              "    </tr>\n",
              "    <tr>\n",
              "      <th>1</th>\n",
              "      <td>False</td>\n",
              "      <td>False</td>\n",
              "      <td>False</td>\n",
              "      <td>False</td>\n",
              "      <td>False</td>\n",
              "      <td>False</td>\n",
              "      <td>False</td>\n",
              "      <td>False</td>\n",
              "      <td>False</td>\n",
              "      <td>False</td>\n",
              "    </tr>\n",
              "    <tr>\n",
              "      <th>2</th>\n",
              "      <td>False</td>\n",
              "      <td>False</td>\n",
              "      <td>False</td>\n",
              "      <td>False</td>\n",
              "      <td>False</td>\n",
              "      <td>False</td>\n",
              "      <td>False</td>\n",
              "      <td>False</td>\n",
              "      <td>False</td>\n",
              "      <td>False</td>\n",
              "    </tr>\n",
              "    <tr>\n",
              "      <th>3</th>\n",
              "      <td>False</td>\n",
              "      <td>False</td>\n",
              "      <td>False</td>\n",
              "      <td>False</td>\n",
              "      <td>False</td>\n",
              "      <td>False</td>\n",
              "      <td>False</td>\n",
              "      <td>False</td>\n",
              "      <td>False</td>\n",
              "      <td>False</td>\n",
              "    </tr>\n",
              "    <tr>\n",
              "      <th>4</th>\n",
              "      <td>False</td>\n",
              "      <td>False</td>\n",
              "      <td>False</td>\n",
              "      <td>False</td>\n",
              "      <td>False</td>\n",
              "      <td>False</td>\n",
              "      <td>False</td>\n",
              "      <td>False</td>\n",
              "      <td>False</td>\n",
              "      <td>False</td>\n",
              "    </tr>\n",
              "    <tr>\n",
              "      <th>...</th>\n",
              "      <td>...</td>\n",
              "      <td>...</td>\n",
              "      <td>...</td>\n",
              "      <td>...</td>\n",
              "      <td>...</td>\n",
              "      <td>...</td>\n",
              "      <td>...</td>\n",
              "      <td>...</td>\n",
              "      <td>...</td>\n",
              "      <td>...</td>\n",
              "    </tr>\n",
              "    <tr>\n",
              "      <th>2915</th>\n",
              "      <td>False</td>\n",
              "      <td>False</td>\n",
              "      <td>False</td>\n",
              "      <td>False</td>\n",
              "      <td>False</td>\n",
              "      <td>False</td>\n",
              "      <td>False</td>\n",
              "      <td>False</td>\n",
              "      <td>False</td>\n",
              "      <td>False</td>\n",
              "    </tr>\n",
              "    <tr>\n",
              "      <th>2916</th>\n",
              "      <td>False</td>\n",
              "      <td>False</td>\n",
              "      <td>False</td>\n",
              "      <td>False</td>\n",
              "      <td>False</td>\n",
              "      <td>False</td>\n",
              "      <td>False</td>\n",
              "      <td>False</td>\n",
              "      <td>False</td>\n",
              "      <td>False</td>\n",
              "    </tr>\n",
              "    <tr>\n",
              "      <th>2917</th>\n",
              "      <td>False</td>\n",
              "      <td>False</td>\n",
              "      <td>False</td>\n",
              "      <td>False</td>\n",
              "      <td>False</td>\n",
              "      <td>False</td>\n",
              "      <td>False</td>\n",
              "      <td>False</td>\n",
              "      <td>False</td>\n",
              "      <td>False</td>\n",
              "    </tr>\n",
              "    <tr>\n",
              "      <th>2918</th>\n",
              "      <td>False</td>\n",
              "      <td>False</td>\n",
              "      <td>False</td>\n",
              "      <td>False</td>\n",
              "      <td>False</td>\n",
              "      <td>False</td>\n",
              "      <td>False</td>\n",
              "      <td>False</td>\n",
              "      <td>False</td>\n",
              "      <td>False</td>\n",
              "    </tr>\n",
              "    <tr>\n",
              "      <th>2919</th>\n",
              "      <td>False</td>\n",
              "      <td>False</td>\n",
              "      <td>False</td>\n",
              "      <td>False</td>\n",
              "      <td>False</td>\n",
              "      <td>False</td>\n",
              "      <td>False</td>\n",
              "      <td>False</td>\n",
              "      <td>False</td>\n",
              "      <td>False</td>\n",
              "    </tr>\n",
              "  </tbody>\n",
              "</table>\n",
              "<p>2920 rows × 10 columns</p>\n",
              "</div>"
            ],
            "text/plain": [
              "      distance-to-solar-noon  temperature  wind-direction  wind-speed  \\\n",
              "0                      False        False           False       False   \n",
              "1                      False        False           False       False   \n",
              "2                      False        False           False       False   \n",
              "3                      False        False           False       False   \n",
              "4                      False        False           False       False   \n",
              "...                      ...          ...             ...         ...   \n",
              "2915                   False        False           False       False   \n",
              "2916                   False        False           False       False   \n",
              "2917                   False        False           False       False   \n",
              "2918                   False        False           False       False   \n",
              "2919                   False        False           False       False   \n",
              "\n",
              "      sky-cover  visibility  humidity  average-wind-speed-(period)  \\\n",
              "0         False       False     False                        False   \n",
              "1         False       False     False                        False   \n",
              "2         False       False     False                        False   \n",
              "3         False       False     False                        False   \n",
              "4         False       False     False                        False   \n",
              "...         ...         ...       ...                          ...   \n",
              "2915      False       False     False                        False   \n",
              "2916      False       False     False                        False   \n",
              "2917      False       False     False                        False   \n",
              "2918      False       False     False                        False   \n",
              "2919      False       False     False                        False   \n",
              "\n",
              "      average-pressure-(period)  power-generated  \n",
              "0                         False            False  \n",
              "1                         False            False  \n",
              "2                         False            False  \n",
              "3                         False            False  \n",
              "4                         False            False  \n",
              "...                         ...              ...  \n",
              "2915                      False            False  \n",
              "2916                      False            False  \n",
              "2917                      False            False  \n",
              "2918                      False            False  \n",
              "2919                      False            False  \n",
              "\n",
              "[2920 rows x 10 columns]"
            ]
          },
          "execution_count": 164,
          "metadata": {},
          "output_type": "execute_result"
        }
      ],
      "source": [
        "#Check for missing value\n",
        "df.isnull()"
      ]
    },
    {
      "cell_type": "code",
      "execution_count": 165,
      "metadata": {
        "colab": {
          "base_uri": "https://localhost:8080/",
          "height": 397
        },
        "id": "u5RXXQSlP36E",
        "outputId": "4b84f2eb-a179-49c0-f7ed-fbf20dd71c5c"
      },
      "outputs": [
        {
          "data": {
            "text/plain": [
              "distance-to-solar-noon         0\n",
              "temperature                    0\n",
              "wind-direction                 0\n",
              "wind-speed                     0\n",
              "sky-cover                      0\n",
              "visibility                     0\n",
              "humidity                       0\n",
              "average-wind-speed-(period)    1\n",
              "average-pressure-(period)      0\n",
              "power-generated                0\n",
              "dtype: int64"
            ]
          },
          "execution_count": 165,
          "metadata": {},
          "output_type": "execute_result"
        }
      ],
      "source": [
        "df.isnull().sum()"
      ]
    },
    {
      "cell_type": "code",
      "execution_count": 166,
      "metadata": {
        "colab": {
          "base_uri": "https://localhost:8080/"
        },
        "id": "luOSAz6wSvPf",
        "outputId": "ee3764f0-6153-4ce8-eedb-8ee889e96356"
      },
      "outputs": [
        {
          "data": {
            "text/plain": [
              "np.int64(0)"
            ]
          },
          "execution_count": 166,
          "metadata": {},
          "output_type": "execute_result"
        }
      ],
      "source": [
        "df = df.fillna(value=df['average-wind-speed-(period)'].mean())\n",
        "df['average-wind-speed-(period)'].isnull().sum()"
      ]
    },
    {
      "cell_type": "code",
      "execution_count": 167,
      "metadata": {
        "colab": {
          "base_uri": "https://localhost:8080/"
        },
        "id": "ZHVOJXymS_fA",
        "outputId": "d8b05303-3139-4b25-e84e-ee2a79d5b5ab"
      },
      "outputs": [
        {
          "data": {
            "text/plain": [
              "np.int64(0)"
            ]
          },
          "execution_count": 167,
          "metadata": {},
          "output_type": "execute_result"
        }
      ],
      "source": [
        "df.isnull().sum().sum()"
      ]
    },
    {
      "cell_type": "markdown",
      "metadata": {
        "id": "ZoFulY4XTQ8a"
      },
      "source": [
        "###### To clean the data we can remove the outliers for better performance"
      ]
    },
    {
      "cell_type": "code",
      "execution_count": 168,
      "metadata": {
        "id": "9mRdaIDGTVw9"
      },
      "outputs": [],
      "source": [
        "#  Warnings removal\n",
        "import warnings\n",
        "warnings.filterwarnings('ignore')"
      ]
    },
    {
      "cell_type": "markdown",
      "metadata": {
        "id": "r8ESiE02UZml"
      },
      "source": [
        "###Identify Numerical Columns:"
      ]
    },
    {
      "cell_type": "code",
      "execution_count": 169,
      "metadata": {
        "id": "CzlCuevcUSjD"
      },
      "outputs": [],
      "source": [
        "numerical_cols = df.select_dtypes(include=np.number).columns"
      ]
    },
    {
      "cell_type": "code",
      "execution_count": 170,
      "metadata": {
        "colab": {
          "base_uri": "https://localhost:8080/",
          "height": 1000
        },
        "id": "D47s_A9wUfVi",
        "outputId": "f1a80d73-04a0-4712-8f32-66f6612fcdb4"
      },
      "outputs": [
        {
          "data": {
            "image/png": "[encoded data removed]",
            "text/plain": [
              "<Figure size 640x480 with 1 Axes>"
            ]
          },
          "metadata": {},
          "output_type": "display_data"
        },
        {
          "data": {
            "image/png": "[encoded data removed]",
            "text/plain": [
              "<Figure size 640x480 with 1 Axes>"
            ]
          },
          "metadata": {},
          "output_type": "display_data"
        },
        {
          "data": {
            "image/png": "[encoded data removed]",
            "text/plain": [
              "<Figure size 640x480 with 1 Axes>"
            ]
          },
          "metadata": {},
          "output_type": "display_data"
        },
        {
          "data": {
            "image/png": "[encoded data removed]",
            "text/plain": [
              "<Figure size 640x480 with 1 Axes>"
            ]
          },
          "metadata": {},
          "output_type": "display_data"
        },
        {
          "data": {
            "image/png": "[encoded data removed]",
            "text/plain": [
              "<Figure size 640x480 with 1 Axes>"
            ]
          },
          "metadata": {},
          "output_type": "display_data"
        },
        {
          "data": {
            "image/png": "[encoded data removed]",
            "text/plain": [
              "<Figure size 640x480 with 1 Axes>"
            ]
          },
          "metadata": {},
          "output_type": "display_data"
        },
        {
          "data": {
            "image/png": "[encoded data removed]",
            "text/plain": [
              "<Figure size 640x480 with 1 Axes>"
            ]
          },
          "metadata": {},
          "output_type": "display_data"
        },
        {
          "data": {
            "image/png": "[encoded data removed]",
            "text/plain": [
              "<Figure size 640x480 with 1 Axes>"
            ]
          },
          "metadata": {},
          "output_type": "display_data"
        },
        {
          "data": {
            "image/png": "[encoded data removed]",
            "text/plain": [
              "<Figure size 640x480 with 1 Axes>"
            ]
          },
          "metadata": {},
          "output_type": "display_data"
        },
        {
          "data": {
            "image/png": "[encoded data removed]",
            "text/plain": [
              "<Figure size 640x480 with 1 Axes>"
            ]
          },
          "metadata": {},
          "output_type": "display_data"
        }
      ],
      "source": [
        "for col in numerical_cols:\n",
        "  plt.figure()\n",
        "  sns.boxplot(df[col])\n",
        "  plt.title(f\"Boxplot of {col}\")\n",
        "  plt.show()"
      ]
    },
    {
      "cell_type": "code",
      "execution_count": 171,
      "metadata": {
        "colab": {
          "base_uri": "https://localhost:8080/"
        },
        "id": "r4H9RjGLVehX",
        "outputId": "a66f754c-2334-463f-f110-9ae75c086a64"
      },
      "outputs": [
        {
          "name": "stdout",
          "output_type": "stream",
          "text": [
            "upper limit: 45.6989586625041\n",
            "lower limit: 4.207890652564391\n",
            "outliers: 41.49106800993971\n"
          ]
        }
      ],
      "source": [
        "# using 'Z'scores to remove outliers\n",
        "upper_limit = df['wind-direction'].mean()+3*df['wind-direction'].std()\n",
        "lower_limit = df['wind-direction'].mean()-3*df['wind-direction'].std()\n",
        "print('upper limit:',upper_limit)\n",
        "print('lower limit:',lower_limit)\n",
        "print('outliers:', upper_limit-lower_limit)"
      ]
    },
    {
      "cell_type": "code",
      "execution_count": 172,
      "metadata": {
        "colab": {
          "base_uri": "https://localhost:8080/",
          "height": 495
        },
        "id": "Zd9DogatV0Ph",
        "outputId": "2f4b365e-e4c8-4ee2-a5f3-5488a10e8198"
      },
      "outputs": [
        {
          "data": {
            "text/html": [
              "<div>\n",
              "<style scoped>\n",
              "    .dataframe tbody tr th:only-of-type {\n",
              "        vertical-align: middle;\n",
              "    }\n",
              "\n",
              "    .dataframe tbody tr th {\n",
              "        vertical-align: top;\n",
              "    }\n",
              "\n",
              "    .dataframe thead th {\n",
              "        text-align: right;\n",
              "    }\n",
              "</style>\n",
              "<table border=\"1\" class=\"dataframe\">\n",
              "  <thead>\n",
              "    <tr style=\"text-align: right;\">\n",
              "      <th></th>\n",
              "      <th>distance-to-solar-noon</th>\n",
              "      <th>temperature</th>\n",
              "      <th>wind-direction</th>\n",
              "      <th>wind-speed</th>\n",
              "      <th>sky-cover</th>\n",
              "      <th>visibility</th>\n",
              "      <th>humidity</th>\n",
              "      <th>average-wind-speed-(period)</th>\n",
              "      <th>average-pressure-(period)</th>\n",
              "      <th>power-generated</th>\n",
              "    </tr>\n",
              "  </thead>\n",
              "  <tbody>\n",
              "    <tr>\n",
              "      <th>768</th>\n",
              "      <td>1.036207</td>\n",
              "      <td>51</td>\n",
              "      <td>3</td>\n",
              "      <td>3.6</td>\n",
              "      <td>1</td>\n",
              "      <td>10.0</td>\n",
              "      <td>68</td>\n",
              "      <td>0.0</td>\n",
              "      <td>30.22</td>\n",
              "      <td>0</td>\n",
              "    </tr>\n",
              "    <tr>\n",
              "      <th>769</th>\n",
              "      <td>0.725862</td>\n",
              "      <td>51</td>\n",
              "      <td>3</td>\n",
              "      <td>3.6</td>\n",
              "      <td>0</td>\n",
              "      <td>10.0</td>\n",
              "      <td>74</td>\n",
              "      <td>0.0</td>\n",
              "      <td>30.21</td>\n",
              "      <td>0</td>\n",
              "    </tr>\n",
              "    <tr>\n",
              "      <th>770</th>\n",
              "      <td>0.415517</td>\n",
              "      <td>51</td>\n",
              "      <td>3</td>\n",
              "      <td>3.6</td>\n",
              "      <td>1</td>\n",
              "      <td>10.0</td>\n",
              "      <td>86</td>\n",
              "      <td>0.0</td>\n",
              "      <td>30.24</td>\n",
              "      <td>110</td>\n",
              "    </tr>\n",
              "    <tr>\n",
              "      <th>771</th>\n",
              "      <td>0.105172</td>\n",
              "      <td>51</td>\n",
              "      <td>3</td>\n",
              "      <td>3.6</td>\n",
              "      <td>1</td>\n",
              "      <td>8.0</td>\n",
              "      <td>77</td>\n",
              "      <td>7.0</td>\n",
              "      <td>30.26</td>\n",
              "      <td>13734</td>\n",
              "    </tr>\n",
              "    <tr>\n",
              "      <th>772</th>\n",
              "      <td>0.205172</td>\n",
              "      <td>51</td>\n",
              "      <td>3</td>\n",
              "      <td>3.6</td>\n",
              "      <td>1</td>\n",
              "      <td>7.0</td>\n",
              "      <td>62</td>\n",
              "      <td>0.0</td>\n",
              "      <td>30.21</td>\n",
              "      <td>20887</td>\n",
              "    </tr>\n",
              "    <tr>\n",
              "      <th>...</th>\n",
              "      <td>...</td>\n",
              "      <td>...</td>\n",
              "      <td>...</td>\n",
              "      <td>...</td>\n",
              "      <td>...</td>\n",
              "      <td>...</td>\n",
              "      <td>...</td>\n",
              "      <td>...</td>\n",
              "      <td>...</td>\n",
              "      <td>...</td>\n",
              "    </tr>\n",
              "    <tr>\n",
              "      <th>1147</th>\n",
              "      <td>0.134551</td>\n",
              "      <td>53</td>\n",
              "      <td>2</td>\n",
              "      <td>2.6</td>\n",
              "      <td>4</td>\n",
              "      <td>4.0</td>\n",
              "      <td>96</td>\n",
              "      <td>0.0</td>\n",
              "      <td>30.02</td>\n",
              "      <td>120</td>\n",
              "    </tr>\n",
              "    <tr>\n",
              "      <th>1148</th>\n",
              "      <td>0.164452</td>\n",
              "      <td>53</td>\n",
              "      <td>2</td>\n",
              "      <td>2.6</td>\n",
              "      <td>4</td>\n",
              "      <td>4.0</td>\n",
              "      <td>93</td>\n",
              "      <td>7.0</td>\n",
              "      <td>30.00</td>\n",
              "      <td>4956</td>\n",
              "    </tr>\n",
              "    <tr>\n",
              "      <th>1149</th>\n",
              "      <td>0.463455</td>\n",
              "      <td>53</td>\n",
              "      <td>2</td>\n",
              "      <td>2.6</td>\n",
              "      <td>4</td>\n",
              "      <td>8.0</td>\n",
              "      <td>93</td>\n",
              "      <td>0.0</td>\n",
              "      <td>30.00</td>\n",
              "      <td>2298</td>\n",
              "    </tr>\n",
              "    <tr>\n",
              "      <th>1150</th>\n",
              "      <td>0.762458</td>\n",
              "      <td>53</td>\n",
              "      <td>2</td>\n",
              "      <td>2.6</td>\n",
              "      <td>4</td>\n",
              "      <td>9.0</td>\n",
              "      <td>93</td>\n",
              "      <td>0.0</td>\n",
              "      <td>30.00</td>\n",
              "      <td>0</td>\n",
              "    </tr>\n",
              "    <tr>\n",
              "      <th>1151</th>\n",
              "      <td>1.061462</td>\n",
              "      <td>53</td>\n",
              "      <td>2</td>\n",
              "      <td>2.6</td>\n",
              "      <td>4</td>\n",
              "      <td>10.0</td>\n",
              "      <td>86</td>\n",
              "      <td>3.0</td>\n",
              "      <td>30.01</td>\n",
              "      <td>0</td>\n",
              "    </tr>\n",
              "  </tbody>\n",
              "</table>\n",
              "<p>64 rows × 10 columns</p>\n",
              "</div>"
            ],
            "text/plain": [
              "      distance-to-solar-noon  temperature  wind-direction  wind-speed  \\\n",
              "768                 1.036207           51               3         3.6   \n",
              "769                 0.725862           51               3         3.6   \n",
              "770                 0.415517           51               3         3.6   \n",
              "771                 0.105172           51               3         3.6   \n",
              "772                 0.205172           51               3         3.6   \n",
              "...                      ...          ...             ...         ...   \n",
              "1147                0.134551           53               2         2.6   \n",
              "1148                0.164452           53               2         2.6   \n",
              "1149                0.463455           53               2         2.6   \n",
              "1150                0.762458           53               2         2.6   \n",
              "1151                1.061462           53               2         2.6   \n",
              "\n",
              "      sky-cover  visibility  humidity  average-wind-speed-(period)  \\\n",
              "768           1        10.0        68                          0.0   \n",
              "769           0        10.0        74                          0.0   \n",
              "770           1        10.0        86                          0.0   \n",
              "771           1         8.0        77                          7.0   \n",
              "772           1         7.0        62                          0.0   \n",
              "...         ...         ...       ...                          ...   \n",
              "1147          4         4.0        96                          0.0   \n",
              "1148          4         4.0        93                          7.0   \n",
              "1149          4         8.0        93                          0.0   \n",
              "1150          4         9.0        93                          0.0   \n",
              "1151          4        10.0        86                          3.0   \n",
              "\n",
              "      average-pressure-(period)  power-generated  \n",
              "768                       30.22                0  \n",
              "769                       30.21                0  \n",
              "770                       30.24              110  \n",
              "771                       30.26            13734  \n",
              "772                       30.21            20887  \n",
              "...                         ...              ...  \n",
              "1147                      30.02              120  \n",
              "1148                      30.00             4956  \n",
              "1149                      30.00             2298  \n",
              "1150                      30.00                0  \n",
              "1151                      30.01                0  \n",
              "\n",
              "[64 rows x 10 columns]"
            ]
          },
          "execution_count": 172,
          "metadata": {},
          "output_type": "execute_result"
        }
      ],
      "source": [
        "#finding the outliers\n",
        "df.loc[(df['wind-direction']>upper_limit) | (df['wind-direction']<lower_limit)]"
      ]
    },
    {
      "cell_type": "code",
      "execution_count": 173,
      "metadata": {
        "colab": {
          "base_uri": "https://localhost:8080/"
        },
        "id": "D_2mqaTNWJnq",
        "outputId": "c5ac5a33-f5aa-43ed-f0c7-222a14141cab"
      },
      "outputs": [
        {
          "name": "stdout",
          "output_type": "stream",
          "text": [
            "      distance-to-solar-noon  temperature  wind-direction  wind-speed  \\\n",
            "0                   0.859897           69              28         7.5   \n",
            "1                   0.628535           69              28         7.5   \n",
            "2                   0.397172           69              28         7.5   \n",
            "3                   0.165810           69              28         7.5   \n",
            "4                   0.065553           69              28         7.5   \n",
            "...                      ...          ...             ...         ...   \n",
            "2915                0.166453           63              27        13.9   \n",
            "2916                0.064020           63              27        13.9   \n",
            "2917                0.294494           63              27        13.9   \n",
            "2918                0.524968           63              27        13.9   \n",
            "2919                0.755442           63              27        13.9   \n",
            "\n",
            "      sky-cover  visibility  humidity  average-wind-speed-(period)  \\\n",
            "0             0        10.0        75                          8.0   \n",
            "1             0        10.0        77                          5.0   \n",
            "2             0        10.0        70                          0.0   \n",
            "3             0        10.0        33                          0.0   \n",
            "4             0        10.0        21                          3.0   \n",
            "...         ...         ...       ...                          ...   \n",
            "2915          4        10.0        75                         10.0   \n",
            "2916          1        10.0        66                         15.0   \n",
            "2917          2        10.0        68                         21.0   \n",
            "2918          2        10.0        81                         17.0   \n",
            "2919          1        10.0        81                         11.0   \n",
            "\n",
            "      average-pressure-(period)  power-generated  \n",
            "0                         29.82                0  \n",
            "1                         29.85                0  \n",
            "2                         29.89             5418  \n",
            "3                         29.91            25477  \n",
            "4                         29.89            30069  \n",
            "...                         ...              ...  \n",
            "2915                      29.93             6995  \n",
            "2916                      29.91            29490  \n",
            "2917                      29.88            17257  \n",
            "2918                      29.87              677  \n",
            "2919                      29.90                0  \n",
            "\n",
            "[2856 rows x 10 columns]\n"
          ]
        }
      ],
      "source": [
        "# Trimming - delete the outliered data\n",
        "df1= df.loc[(df['wind-direction']<upper_limit)&(df['wind-direction']>lower_limit)]\n",
        "print(df1)"
      ]
    },
    {
      "cell_type": "code",
      "execution_count": 174,
      "metadata": {
        "colab": {
          "base_uri": "https://localhost:8080/",
          "height": 428
        },
        "id": "GP4rde5CWZYX",
        "outputId": "3e04475b-bf08-4bac-fb1c-a76e3004f694"
      },
      "outputs": [
        {
          "data": {
            "text/plain": [
              "<Axes: ylabel='wind-direction'>"
            ]
          },
          "execution_count": 174,
          "metadata": {},
          "output_type": "execute_result"
        },
        {
          "data": {
            "image/png": "[encoded data removed]",
            "text/plain": [
              "<Figure size 640x480 with 1 Axes>"
            ]
          },
          "metadata": {},
          "output_type": "display_data"
        }
      ],
      "source": [
        "sns.boxplot(df1['wind-direction'])"
      ]
    },
    {
      "cell_type": "code",
      "execution_count": 175,
      "metadata": {
        "colab": {
          "base_uri": "https://localhost:8080/",
          "height": 495
        },
        "id": "_Wsg9yw3XQ04",
        "outputId": "3ecb7820-e3da-4d5b-a89a-f5d14eabdf63"
      },
      "outputs": [
        {
          "data": {
            "text/html": [
              "<div>\n",
              "<style scoped>\n",
              "    .dataframe tbody tr th:only-of-type {\n",
              "        vertical-align: middle;\n",
              "    }\n",
              "\n",
              "    .dataframe tbody tr th {\n",
              "        vertical-align: top;\n",
              "    }\n",
              "\n",
              "    .dataframe thead th {\n",
              "        text-align: right;\n",
              "    }\n",
              "</style>\n",
              "<table border=\"1\" class=\"dataframe\">\n",
              "  <thead>\n",
              "    <tr style=\"text-align: right;\">\n",
              "      <th></th>\n",
              "      <th>distance-to-solar-noon</th>\n",
              "      <th>temperature</th>\n",
              "      <th>wind-direction</th>\n",
              "      <th>wind-speed</th>\n",
              "      <th>sky-cover</th>\n",
              "      <th>visibility</th>\n",
              "      <th>humidity</th>\n",
              "      <th>average-wind-speed-(period)</th>\n",
              "      <th>average-pressure-(period)</th>\n",
              "      <th>power-generated</th>\n",
              "    </tr>\n",
              "  </thead>\n",
              "  <tbody>\n",
              "    <tr>\n",
              "      <th>0</th>\n",
              "      <td>0.859897</td>\n",
              "      <td>69</td>\n",
              "      <td>28</td>\n",
              "      <td>7.5</td>\n",
              "      <td>0</td>\n",
              "      <td>10.0</td>\n",
              "      <td>75</td>\n",
              "      <td>8.0</td>\n",
              "      <td>29.82</td>\n",
              "      <td>0</td>\n",
              "    </tr>\n",
              "    <tr>\n",
              "      <th>1</th>\n",
              "      <td>0.628535</td>\n",
              "      <td>69</td>\n",
              "      <td>28</td>\n",
              "      <td>7.5</td>\n",
              "      <td>0</td>\n",
              "      <td>10.0</td>\n",
              "      <td>77</td>\n",
              "      <td>5.0</td>\n",
              "      <td>29.85</td>\n",
              "      <td>0</td>\n",
              "    </tr>\n",
              "    <tr>\n",
              "      <th>2</th>\n",
              "      <td>0.397172</td>\n",
              "      <td>69</td>\n",
              "      <td>28</td>\n",
              "      <td>7.5</td>\n",
              "      <td>0</td>\n",
              "      <td>10.0</td>\n",
              "      <td>70</td>\n",
              "      <td>0.0</td>\n",
              "      <td>29.89</td>\n",
              "      <td>5418</td>\n",
              "    </tr>\n",
              "    <tr>\n",
              "      <th>3</th>\n",
              "      <td>0.165810</td>\n",
              "      <td>69</td>\n",
              "      <td>28</td>\n",
              "      <td>7.5</td>\n",
              "      <td>0</td>\n",
              "      <td>10.0</td>\n",
              "      <td>33</td>\n",
              "      <td>0.0</td>\n",
              "      <td>29.91</td>\n",
              "      <td>25477</td>\n",
              "    </tr>\n",
              "    <tr>\n",
              "      <th>4</th>\n",
              "      <td>0.065553</td>\n",
              "      <td>69</td>\n",
              "      <td>28</td>\n",
              "      <td>7.5</td>\n",
              "      <td>0</td>\n",
              "      <td>10.0</td>\n",
              "      <td>21</td>\n",
              "      <td>3.0</td>\n",
              "      <td>29.89</td>\n",
              "      <td>30069</td>\n",
              "    </tr>\n",
              "    <tr>\n",
              "      <th>...</th>\n",
              "      <td>...</td>\n",
              "      <td>...</td>\n",
              "      <td>...</td>\n",
              "      <td>...</td>\n",
              "      <td>...</td>\n",
              "      <td>...</td>\n",
              "      <td>...</td>\n",
              "      <td>...</td>\n",
              "      <td>...</td>\n",
              "      <td>...</td>\n",
              "    </tr>\n",
              "    <tr>\n",
              "      <th>2915</th>\n",
              "      <td>0.166453</td>\n",
              "      <td>63</td>\n",
              "      <td>27</td>\n",
              "      <td>13.9</td>\n",
              "      <td>4</td>\n",
              "      <td>10.0</td>\n",
              "      <td>75</td>\n",
              "      <td>10.0</td>\n",
              "      <td>29.93</td>\n",
              "      <td>6995</td>\n",
              "    </tr>\n",
              "    <tr>\n",
              "      <th>2916</th>\n",
              "      <td>0.064020</td>\n",
              "      <td>63</td>\n",
              "      <td>27</td>\n",
              "      <td>13.9</td>\n",
              "      <td>1</td>\n",
              "      <td>10.0</td>\n",
              "      <td>66</td>\n",
              "      <td>15.0</td>\n",
              "      <td>29.91</td>\n",
              "      <td>29490</td>\n",
              "    </tr>\n",
              "    <tr>\n",
              "      <th>2917</th>\n",
              "      <td>0.294494</td>\n",
              "      <td>63</td>\n",
              "      <td>27</td>\n",
              "      <td>13.9</td>\n",
              "      <td>2</td>\n",
              "      <td>10.0</td>\n",
              "      <td>68</td>\n",
              "      <td>21.0</td>\n",
              "      <td>29.88</td>\n",
              "      <td>17257</td>\n",
              "    </tr>\n",
              "    <tr>\n",
              "      <th>2918</th>\n",
              "      <td>0.524968</td>\n",
              "      <td>63</td>\n",
              "      <td>27</td>\n",
              "      <td>13.9</td>\n",
              "      <td>2</td>\n",
              "      <td>10.0</td>\n",
              "      <td>81</td>\n",
              "      <td>17.0</td>\n",
              "      <td>29.87</td>\n",
              "      <td>677</td>\n",
              "    </tr>\n",
              "    <tr>\n",
              "      <th>2919</th>\n",
              "      <td>0.755442</td>\n",
              "      <td>63</td>\n",
              "      <td>27</td>\n",
              "      <td>13.9</td>\n",
              "      <td>1</td>\n",
              "      <td>10.0</td>\n",
              "      <td>81</td>\n",
              "      <td>11.0</td>\n",
              "      <td>29.90</td>\n",
              "      <td>0</td>\n",
              "    </tr>\n",
              "  </tbody>\n",
              "</table>\n",
              "<p>2920 rows × 10 columns</p>\n",
              "</div>"
            ],
            "text/plain": [
              "      distance-to-solar-noon  temperature  wind-direction  wind-speed  \\\n",
              "0                   0.859897           69              28         7.5   \n",
              "1                   0.628535           69              28         7.5   \n",
              "2                   0.397172           69              28         7.5   \n",
              "3                   0.165810           69              28         7.5   \n",
              "4                   0.065553           69              28         7.5   \n",
              "...                      ...          ...             ...         ...   \n",
              "2915                0.166453           63              27        13.9   \n",
              "2916                0.064020           63              27        13.9   \n",
              "2917                0.294494           63              27        13.9   \n",
              "2918                0.524968           63              27        13.9   \n",
              "2919                0.755442           63              27        13.9   \n",
              "\n",
              "      sky-cover  visibility  humidity  average-wind-speed-(period)  \\\n",
              "0             0        10.0        75                          8.0   \n",
              "1             0        10.0        77                          5.0   \n",
              "2             0        10.0        70                          0.0   \n",
              "3             0        10.0        33                          0.0   \n",
              "4             0        10.0        21                          3.0   \n",
              "...         ...         ...       ...                          ...   \n",
              "2915          4        10.0        75                         10.0   \n",
              "2916          1        10.0        66                         15.0   \n",
              "2917          2        10.0        68                         21.0   \n",
              "2918          2        10.0        81                         17.0   \n",
              "2919          1        10.0        81                         11.0   \n",
              "\n",
              "      average-pressure-(period)  power-generated  \n",
              "0                         29.82                0  \n",
              "1                         29.85                0  \n",
              "2                         29.89             5418  \n",
              "3                         29.91            25477  \n",
              "4                         29.89            30069  \n",
              "...                         ...              ...  \n",
              "2915                      29.93             6995  \n",
              "2916                      29.91            29490  \n",
              "2917                      29.88            17257  \n",
              "2918                      29.87              677  \n",
              "2919                      29.90                0  \n",
              "\n",
              "[2920 rows x 10 columns]"
            ]
          },
          "execution_count": 175,
          "metadata": {},
          "output_type": "execute_result"
        }
      ],
      "source": [
        "df"
      ]
    },
    {
      "cell_type": "code",
      "execution_count": 176,
      "metadata": {
        "colab": {
          "base_uri": "https://localhost:8080/"
        },
        "id": "aJBwm5QeW-6T",
        "outputId": "3246c71e-a1b2-4f46-ffe0-d6294d49a7f1"
      },
      "outputs": [
        {
          "name": "stdout",
          "output_type": "stream",
          "text": [
            "standard deviation of distance-to-solar-noon: 0.29802354400173364\n",
            "standard deviation of temperature: 6.841200312039008\n",
            "standard deviation of wind-direction: 6.915178001656619\n",
            "standard deviation of wind-speed: 4.838185069335698\n",
            "standard deviation of sky-cover: 1.4119778518284123\n",
            "standard deviation of visibility: 1.3838837251315257\n",
            "standard deviation of humidity: 15.07713923327884\n",
            "standard deviation of average-wind-speed-(period): 7.260302575948544\n",
            "standard deviation of average-pressure-(period): 0.14200583367403716\n",
            "standard deviation of power-generated: 10312.336413252266\n"
          ]
        }
      ],
      "source": [
        "df['distance-to-solar-noon'].std()\n",
        "print('standard deviation of distance-to-solar-noon:',df['distance-to-solar-noon'].std())\n",
        "df['temperature'].std()\n",
        "print('standard deviation of temperature:',df['temperature'].std())\n",
        "df['wind-direction'].std()\n",
        "print('standard deviation of wind-direction:',df['wind-direction'].std())\n",
        "df['wind-speed'].std()\n",
        "print('standard deviation of wind-speed:',df['wind-speed'].std())\n",
        "df['sky-cover'].std()\n",
        "print('standard deviation of sky-cover:',df['sky-cover'].std())\n",
        "df['visibility'].std()\n",
        "print('standard deviation of visibility:',df['visibility'].std())\n",
        "df['humidity'].std()\n",
        "print('standard deviation of humidity:',df['humidity'].std())\n",
        "df['average-wind-speed-(period)'].std()\n",
        "print('standard deviation of average-wind-speed-(period):',df['average-wind-speed-(period)'].std())\n",
        "df['average-pressure-(period)'].std()\n",
        "print('standard deviation of average-pressure-(period):',df['average-pressure-(period)'].std())\n",
        "df['power-generated'].std()\n",
        "print('standard deviation of power-generated:',df['power-generated'].std())"
      ]
    },
    {
      "cell_type": "code",
      "execution_count": 177,
      "metadata": {
        "colab": {
          "base_uri": "https://localhost:8080/",
          "height": 335
        },
        "id": "XVnFu5q2YZLP",
        "outputId": "275028ff-bd81-47e5-f31a-d4de9fb6deb5"
      },
      "outputs": [
        {
          "data": {
            "text/plain": [
              "count    2920.000000\n",
              "mean       24.953425\n",
              "std         6.915178\n",
              "min         1.000000\n",
              "25%        25.000000\n",
              "50%        27.000000\n",
              "75%        29.000000\n",
              "max        36.000000\n",
              "Name: wind-direction, dtype: float64"
            ]
          },
          "execution_count": 177,
          "metadata": {},
          "output_type": "execute_result"
        }
      ],
      "source": [
        "(df['wind-direction']).describe()"
      ]
    },
    {
      "cell_type": "code",
      "execution_count": 178,
      "metadata": {
        "colab": {
          "base_uri": "https://localhost:8080/",
          "height": 430
        },
        "id": "yKBZ-HBwYwtX",
        "outputId": "389f933e-cd8e-4dc7-beb7-763acb3e0158"
      },
      "outputs": [],
      "source": [
        "# # Data visualization is main part to compare a data with more information\n",
        "# df.boxplot();"
      ]
    },
    {
      "cell_type": "markdown",
      "metadata": {
        "id": "7eRf5mWJZTKy"
      },
      "source": [
        "there was no categorical column to display with the help of pie chart"
      ]
    },
    {
      "cell_type": "code",
      "execution_count": 179,
      "metadata": {
        "colab": {
          "base_uri": "https://localhost:8080/",
          "height": 1000
        },
        "id": "7fcsJQbaeGAc",
        "outputId": "0c2dea73-aeee-4ac1-b017-dcd4ac7c2d2a"
      },
      "outputs": [],
      "source": [
        "# #Detect and treat outliers\n",
        "# # Visualize outliers using boxplots\n",
        "# for col in numerical_cols:\n",
        "#     plt.figure()\n",
        "#     sns.boxplot(df[col])\n",
        "#     plt.title(f\"Boxplot of {col}\")\n",
        "#     plt.show()"
      ]
    },
    {
      "cell_type": "code",
      "execution_count": 180,
      "metadata": {
        "id": "LOdaZdrseVew"
      },
      "outputs": [],
      "source": [
        "# # Treat outliers using the 5th and 95th percentile capping\n",
        "# for col in numerical_cols:\n",
        "#     lower_bound = df[col].quantile(0.05)\n",
        "#     upper_bound = df[col].quantile(0.95)\n",
        "#     df[col] = np.clip(df[col], lower_bound, upper_bound)"
      ]
    },
    {
      "cell_type": "code",
      "execution_count": 181,
      "metadata": {
        "colab": {
          "base_uri": "https://localhost:8080/",
          "height": 1000
        },
        "id": "oAW7GKjDe6Bt",
        "outputId": "77ce73b7-5170-499b-dd4b-80145aa8ab2a"
      },
      "outputs": [],
      "source": [
        "# #Boxplot\n",
        "# for col in numerical_cols:\n",
        "#     plt.figure()\n",
        "#     sns.boxplot(df[col])\n",
        "#     plt.title(f\"Boxplot of df[col]\")\n",
        "#     plt.show()"
      ]
    },
    {
      "cell_type": "code",
      "execution_count": 182,
      "metadata": {
        "colab": {
          "base_uri": "https://localhost:8080/",
          "height": 447
        },
        "id": "xymp_iJ32_DE",
        "outputId": "08e7cd34-ae06-4bb3-eccd-4f08a385b253"
      },
      "outputs": [],
      "source": [
        "# sns.boxplot(df)"
      ]
    },
    {
      "cell_type": "code",
      "execution_count": 183,
      "metadata": {
        "id": "PPY6PJDS3kYz"
      },
      "outputs": [],
      "source": [
        "q1_power_generated = df['power-generated'].quantile(0.25)\n",
        "q3_power_generated = df['power-generated'].quantile(0.75)\n",
        "iqr_power_generated = q3_power_generated - q1_power_generated"
      ]
    },
    {
      "cell_type": "code",
      "execution_count": 184,
      "metadata": {
        "colab": {
          "base_uri": "https://localhost:8080/"
        },
        "id": "I5MoW55W5TER",
        "outputId": "6314552e-e2fd-4da7-ca30-6b0711f41d6e"
      },
      "outputs": [
        {
          "name": "stdout",
          "output_type": "stream",
          "text": [
            "upper limit_power-generated 31808.75\n",
            "lower limit_power-generated -19085.25\n"
          ]
        }
      ],
      "source": [
        "upper_limit_power_generated = q3_power_generated + (1.5 * iqr_power_generated)\n",
        "lower_limit_power_generated = q1_power_generated - (1.5 * iqr_power_generated)\n",
        "print('upper limit_power-generated', upper_limit_power_generated)\n",
        "print('lower limit_power-generated', lower_limit_power_generated)"
      ]
    },
    {
      "cell_type": "code",
      "execution_count": 185,
      "metadata": {
        "id": "MUOEAJwc4y9P"
      },
      "outputs": [],
      "source": [
        "df= df.loc[(df['power-generated']<upper_limit_power_generated)&(df['power-generated']>lower_limit_power_generated)]"
      ]
    },
    {
      "cell_type": "code",
      "execution_count": 186,
      "metadata": {
        "colab": {
          "base_uri": "https://localhost:8080/",
          "height": 428
        },
        "id": "5rlkEMPD5t5e",
        "outputId": "2ca69560-d106-4f55-ea89-93461d3f7ed1"
      },
      "outputs": [],
      "source": [
        "# sns.boxplot(df['power-generated'])"
      ]
    },
    {
      "cell_type": "code",
      "execution_count": 187,
      "metadata": {
        "colab": {
          "base_uri": "https://localhost:8080/",
          "height": 837
        },
        "id": "3ZzHPVd1zmO5",
        "outputId": "b3d1bbe0-b001-4167-d82f-563f5522f37c"
      },
      "outputs": [],
      "source": [
        "# df.boxplot(figsize=(10,10))"
      ]
    },
    {
      "cell_type": "markdown",
      "metadata": {
        "id": "g9FMfWaRZXEP"
      },
      "source": [
        "# Generate the scatter plots or correlation heatmaps to explore relationships between the pairs of variables."
      ]
    },
    {
      "cell_type": "markdown",
      "metadata": {
        "id": "y0_uPI-hOF9R"
      },
      "source": [
        "# Histograms"
      ]
    },
    {
      "cell_type": "code",
      "execution_count": 188,
      "metadata": {
        "colab": {
          "base_uri": "https://localhost:8080/",
          "height": 452
        },
        "id": "cHYxO3GVZHjM",
        "outputId": "d6e628f2-3646-4feb-89ae-14d347cf5450"
      },
      "outputs": [],
      "source": [
        "# df.hist();"
      ]
    },
    {
      "cell_type": "code",
      "execution_count": 189,
      "metadata": {
        "colab": {
          "base_uri": "https://localhost:8080/",
          "height": 1000
        },
        "id": "bh-J2slCe0X8",
        "outputId": "f0a7a295-5cfe-4fd4-edb3-ca3520c2ea51"
      },
      "outputs": [],
      "source": [
        "# #Histogram\n",
        "# for col in numerical_cols:\n",
        "#     plt.figure()\n",
        "#     sns.histplot(df[col], kde=True)\n",
        "#     plt.title(f\"Histogram of {col}\")\n",
        "#     plt.show()"
      ]
    },
    {
      "cell_type": "markdown",
      "metadata": {
        "id": "b7CqpKcgPThh"
      },
      "source": [
        "# Line plot"
      ]
    },
    {
      "cell_type": "code",
      "execution_count": 190,
      "metadata": {
        "colab": {
          "base_uri": "https://localhost:8080/",
          "height": 558
        },
        "id": "F3CIFz-f7EW1",
        "outputId": "6f01d309-c3f7-4e6c-f419-f99d91c66dc9"
      },
      "outputs": [],
      "source": [
        "# plt.figure(figsize=(10, 6))\n",
        "# # Replace 'distance-to-solar-noon' and 'power-generated' with the columns you want to plot\n",
        "# plt.plot(df['distance-to-solar-noon'], df['power-generated'])\n",
        "# plt.xlabel('Distance to Solar Noon')\n",
        "# plt.ylabel('Power Generated')\n",
        "# plt.title('Line Plot')\n",
        "# plt.show()"
      ]
    },
    {
      "cell_type": "code",
      "execution_count": 191,
      "metadata": {
        "colab": {
          "base_uri": "https://localhost:8080/",
          "height": 558
        },
        "id": "7ctoUDEynFlj",
        "outputId": "392c3705-277a-46b4-f574-22e94b8631c8"
      },
      "outputs": [],
      "source": [
        "# plt.figure(figsize=(10, 6))\n",
        "# plt.plot(df['temperature'], df['power-generated'])\n",
        "# plt.xlabel('temperature')\n",
        "# plt.ylabel('Power Generated')\n",
        "# plt.title('Line Plot')\n",
        "# plt.show()"
      ]
    },
    {
      "cell_type": "code",
      "execution_count": 192,
      "metadata": {
        "colab": {
          "base_uri": "https://localhost:8080/",
          "height": 558
        },
        "id": "cmxBDOj2nJ82",
        "outputId": "b9cc643b-5294-4d57-85df-f74e4b13c6ff"
      },
      "outputs": [],
      "source": [
        "# plt.figure(figsize=(10, 6))\n",
        "# plt.plot(df['wind-direction'], df['power-generated'])\n",
        "# plt.xlabel('wind-direction')\n",
        "# plt.ylabel('Power Generated')\n",
        "# plt.title('Line Plot')\n",
        "# plt.show()"
      ]
    },
    {
      "cell_type": "code",
      "execution_count": 193,
      "metadata": {
        "colab": {
          "base_uri": "https://localhost:8080/",
          "height": 558
        },
        "id": "5XCWxWBwnJka",
        "outputId": "0fd45449-125b-4996-b0bf-d672fda0275b"
      },
      "outputs": [],
      "source": [
        "# plt.figure(figsize=(10, 6))\n",
        "# plt.plot(df['wind-speed'], df['power-generated'])\n",
        "# plt.xlabel('wind-speed')\n",
        "# plt.ylabel('Power Generated')\n",
        "# plt.title('Line Plot')\n",
        "# plt.show()"
      ]
    },
    {
      "cell_type": "code",
      "execution_count": 194,
      "metadata": {
        "colab": {
          "base_uri": "https://localhost:8080/",
          "height": 558
        },
        "id": "V2ttNnS0nJCz",
        "outputId": "ba317a99-ac31-46d3-b97d-270be1889af7"
      },
      "outputs": [],
      "source": [
        "# plt.figure(figsize=(10, 6))\n",
        "# plt.plot(df['sky-cover'], df['power-generated'])\n",
        "# plt.xlabel('sky-cover')\n",
        "# plt.ylabel('Power Generated')\n",
        "# plt.title('Line Plot')\n",
        "# plt.show()"
      ]
    },
    {
      "cell_type": "code",
      "execution_count": 195,
      "metadata": {
        "colab": {
          "base_uri": "https://localhost:8080/",
          "height": 558
        },
        "id": "BpU7CNH_nIoT",
        "outputId": "dde43b1a-2be6-419c-8c39-1d877cf08042"
      },
      "outputs": [],
      "source": [
        "# plt.figure(figsize=(10, 6))\n",
        "# plt.plot(df['visibility'], df['power-generated'])\n",
        "# plt.xlabel('visibility')\n",
        "# plt.ylabel('Power Generated')\n",
        "# plt.title('Line Plot')\n",
        "# plt.show()"
      ]
    },
    {
      "cell_type": "code",
      "execution_count": 196,
      "metadata": {
        "colab": {
          "base_uri": "https://localhost:8080/",
          "height": 558
        },
        "id": "Z1-e5WLUnIL7",
        "outputId": "e43f9e97-4bd4-4c4d-d643-2f1cfdc26f9a"
      },
      "outputs": [],
      "source": [
        "# plt.figure(figsize=(10, 6))\n",
        "# plt.plot(df['humidity'], df['power-generated'])\n",
        "# plt.xlabel('humidity')\n",
        "# plt.ylabel('Power Generated')\n",
        "# plt.title('Line Plot')\n",
        "# plt.show()"
      ]
    },
    {
      "cell_type": "code",
      "execution_count": 197,
      "metadata": {
        "colab": {
          "base_uri": "https://localhost:8080/",
          "height": 558
        },
        "id": "Ci3JBJX8nHwz",
        "outputId": "0d32ae6c-8777-4208-95e0-70b25d67cfb5"
      },
      "outputs": [],
      "source": [
        "# plt.figure(figsize=(10, 6))\n",
        "# plt.plot(df['average-wind-speed-(period)'], df['power-generated'])\n",
        "# plt.xlabel('average-wind-speed-(period)')\n",
        "# plt.ylabel('Power Generated')\n",
        "# plt.title('Line Plot')\n",
        "# plt.show()"
      ]
    },
    {
      "cell_type": "code",
      "execution_count": 198,
      "metadata": {
        "colab": {
          "base_uri": "https://localhost:8080/",
          "height": 558
        },
        "id": "Kie0OyhQnHSO",
        "outputId": "57c8b6ae-107c-4c54-ca82-ef4cdc4d9306"
      },
      "outputs": [],
      "source": [
        "# plt.figure(figsize=(10, 6))\n",
        "# plt.plot(df['average-pressure-(period)'], df['power-generated'])\n",
        "# plt.xlabel('average-pressure-(period)')\n",
        "# plt.ylabel('Power Generated')\n",
        "# plt.title('Line Plot')\n",
        "# plt.show()"
      ]
    },
    {
      "cell_type": "code",
      "execution_count": 199,
      "metadata": {
        "colab": {
          "base_uri": "https://localhost:8080/",
          "height": 558
        },
        "id": "lokZpattnGTl",
        "outputId": "211e586e-a578-469c-c9bb-6d3951c1e888"
      },
      "outputs": [],
      "source": [
        "# plt.figure(figsize=(10, 6))\n",
        "# plt.plot(df['power-generated'], df['power-generated'])\n",
        "# plt.xlabel('Power Generated')\n",
        "# plt.ylabel('power-generated')\n",
        "# plt.title('Line Plot')\n",
        "# plt.show()"
      ]
    },
    {
      "cell_type": "code",
      "execution_count": 200,
      "metadata": {
        "id": "ND3d97NG7Lor"
      },
      "outputs": [],
      "source": [
        "columns_to_plot = ['distance-to-solar-noon' , 'temperature' , 'wind-direction' , 'wind-speed' , 'sky-cover' , 'visibility' , 'humidity' , 'average-wind-speed-(period)' , 'average-pressure-(period)']"
      ]
    },
    {
      "cell_type": "code",
      "execution_count": 201,
      "metadata": {
        "colab": {
          "base_uri": "https://localhost:8080/",
          "height": 472
        },
        "id": "nmI_8tAg-Qlx",
        "outputId": "6d32ab7e-198d-4504-a6b8-cf9cc3792adb"
      },
      "outputs": [],
      "source": [
        "# for column in columns_to_plot:\n",
        "#     plt.plot(df[column], df['power-generated'], label=column)\n",
        "#     plt.xlabel('X-axis')\n",
        "# plt.ylabel('Power Generated')\n",
        "# plt.title('Scatter Plot of Multiple Columns')\n",
        "# plt.legend()\n",
        "# plt.show()"
      ]
    },
    {
      "cell_type": "markdown",
      "metadata": {
        "id": "7h9K2JTiPXfR"
      },
      "source": [
        "# Scatter plot"
      ]
    },
    {
      "cell_type": "code",
      "execution_count": 202,
      "metadata": {
        "colab": {
          "base_uri": "https://localhost:8080/",
          "height": 558
        },
        "id": "Tprvl1He46h1",
        "outputId": "f135ee82-df2a-48be-b99e-b79ed5884ad5"
      },
      "outputs": [],
      "source": [
        "# # 2. Scatter Plot for Multiple Columns\n",
        "# plt.figure(figsize=(10, 6))\n",
        "\n",
        "# for column in columns_to_plot:\n",
        "#     plt.scatter(df[column], df['power-generated'], label=column)\n",
        "\n",
        "# plt.xlabel('X-axis')\n",
        "# plt.ylabel('Power Generated')\n",
        "# plt.title('Scatter Plot of Multiple Columns')\n",
        "# plt.legend()\n",
        "# plt.show()"
      ]
    },
    {
      "cell_type": "code",
      "execution_count": 203,
      "metadata": {
        "colab": {
          "base_uri": "https://localhost:8080/",
          "height": 132
        },
        "id": "8pFcswEk_9DH",
        "outputId": "d7ec547c-87f2-4313-fe2a-cdf58d236b2f"
      },
      "outputs": [],
      "source": [
        "# 3. Using Seaborn for Multiple Line Plots\n",
        "# Seaborn makes it easier to plot multiple columns with a single line of code\n",
        "# sns.pairplot(df, x_vars=columns_to_plot, y_vars=['power-generated'], kind='reg')  # 'reg' adds regression lines\n",
        "# plt.figure(figsize=(8, 6))\n",
        "# plt.show()"
      ]
    },
    {
      "cell_type": "markdown",
      "metadata": {
        "id": "mFQ3xJVzB7m6"
      },
      "source": [
        "#Boxplots\n",
        "## feature vs target"
      ]
    },
    {
      "cell_type": "code",
      "execution_count": 204,
      "metadata": {
        "colab": {
          "base_uri": "https://localhost:8080/",
          "height": 1000
        },
        "id": "lpQx3lsjAwcN",
        "outputId": "661342f5-4342-4e2d-d83b-d802ad988a19"
      },
      "outputs": [],
      "source": [
        "# # Create subplots to arrange box plots\n",
        "# fig, axes = plt.subplots(nrows=len(columns_to_plot), ncols=1, figsize=(10, 6 * len(columns_to_plot)))\n",
        "\n",
        "# # Iterate through columns and create box plots\n",
        "# for i, column in enumerate(columns_to_plot):\n",
        "#     sns.boxplot(x=df[column], y=df['power-generated'], ax=axes[i])  # Box plot using Seaborn\n",
        "#     axes[i].set_xlabel(column)  # Set x-axis label\n",
        "#     axes[i].set_ylabel('Power Generated')  # Set y-axis label\n",
        "#     axes[i].set_title(f'Box Plot of Power Generated vs {column}')  # Set title\n",
        "\n",
        "# plt.tight_layout()  # Adjust spacing between subplots\n",
        "# plt.show()"
      ]
    },
    {
      "cell_type": "markdown",
      "metadata": {
        "id": "xxp7_qdpPnJy"
      },
      "source": [
        "# Bar plots"
      ]
    },
    {
      "cell_type": "code",
      "execution_count": 205,
      "metadata": {
        "colab": {
          "base_uri": "https://localhost:8080/",
          "height": 1000
        },
        "id": "cAwbkgiYdpUH",
        "outputId": "44bfb675-fb58-4d80-9e8c-ee51c643c508"
      },
      "outputs": [],
      "source": [
        "# fig, axes = plt.subplots(nrows=len(columns_to_plot), ncols=1, figsize=(10, 6 * len(columns_to_plot)))\n",
        "\n",
        "# # Iterate through columns and create bar plots\n",
        "# for i, column in enumerate(columns_to_plot):\n",
        "#     # Group data by the current column and calculate mean power-generated for each group\n",
        "#     grouped_data = df.groupby(column)['power-generated'].mean().reset_index()\n",
        "\n",
        "#     axes[i].bar(grouped_data[column], grouped_data['power-generated'])\n",
        "#     axes[i].set_xlabel(column)  # Set x-axis label\n",
        "#     axes[i].set_ylabel('Power Generated')  # Set y-axis label\n",
        "#     axes[i].set_title(f'Bar Plot of Power Generated vs. {column}')  # Set title\n",
        "\n",
        "# plt.tight_layout()  # Adjust spacing between subplots\n",
        "# plt.show()"
      ]
    },
    {
      "cell_type": "markdown",
      "metadata": {
        "id": "ni4p2E_IN8u3"
      },
      "source": [
        "# 3d Scatterplots"
      ]
    },
    {
      "cell_type": "code",
      "execution_count": 206,
      "metadata": {
        "colab": {
          "base_uri": "https://localhost:8080/",
          "height": 675
        },
        "id": "qLqpmN_XCWef",
        "outputId": "d7aa1407-33cd-4e0f-90b6-ccc388a5263c"
      },
      "outputs": [],
      "source": [
        "#  # 3D Plot (Example with 3 features)\n",
        "# fig = plt.figure(figsize=(10, 8))\n",
        "# ax = fig.add_subplot(111, projection='3d')\n",
        "\n",
        "# # Select three features for the 3D plot\n",
        "# x = df['distance-to-solar-noon']\n",
        "# y = df['temperature']\n",
        "# z = df['power-generated']\n",
        "\n",
        "# ax.scatter(x, y, z, c=z, cmap='viridis')  # Color points based on 'power-generated'\n",
        "\n",
        "# ax.set_xlabel('Distance to Solar Noon')\n",
        "# ax.set_ylabel('Temperature')\n",
        "# ax.set_zlabel('Power Generated')\n",
        "# ax.set_title('3D Scatter Plot')\n",
        "\n",
        "# plt.show()"
      ]
    },
    {
      "cell_type": "code",
      "execution_count": 207,
      "metadata": {
        "colab": {
          "base_uri": "https://localhost:8080/",
          "height": 675
        },
        "id": "Lifmko0ECiha",
        "outputId": "11562f5b-acf1-4b2f-e563-5782f2047f52"
      },
      "outputs": [],
      "source": [
        "# # 3D Plot (Example with 3 features)\n",
        "# fig = plt.figure(figsize=(10, 8))\n",
        "# ax = fig.add_subplot(111, projection='3d')\n",
        "\n",
        "# # Select three features for the 3D plot\n",
        "# x = df['wind-direction']\n",
        "# y = df['wind-speed']\n",
        "# z = df['power-generated']\n",
        "\n",
        "# ax.scatter(x, y, z, c=z, cmap='viridis')  # Color points based on 'power-generated'\n",
        "\n",
        "# ax.set_xlabel('wind-direction')\n",
        "# ax.set_ylabel('wind-speed')\n",
        "# ax.set_zlabel('Power Generated')\n",
        "# ax.set_title('3D Scatter Plot')\n",
        "\n",
        "# plt.show()"
      ]
    },
    {
      "cell_type": "code",
      "execution_count": 208,
      "metadata": {
        "colab": {
          "base_uri": "https://localhost:8080/",
          "height": 675
        },
        "id": "7JYuhXYhCkl9",
        "outputId": "c01160d9-272e-4ec0-96f6-e822f0d44752"
      },
      "outputs": [],
      "source": [
        "# # 3D Plot (Example with 3 features)\n",
        "# fig = plt.figure(figsize=(10, 8))\n",
        "# ax = fig.add_subplot(111, projection='3d')\n",
        "\n",
        "# # Select three features for the 3D plot\n",
        "# x = df['sky-cover']\n",
        "# y = df['visibility']\n",
        "# z = df['power-generated']\n",
        "\n",
        "# ax.scatter(x, y, z, c=z, cmap='viridis')  # Color points based on 'power-generated'\n",
        "\n",
        "# ax.set_xlabel('sky-cover')\n",
        "# ax.set_ylabel('visibility')\n",
        "# ax.set_zlabel('Power Generated')\n",
        "# ax.set_title('3D Scatter Plot')\n",
        "\n",
        "# plt.show()"
      ]
    },
    {
      "cell_type": "code",
      "execution_count": 209,
      "metadata": {
        "colab": {
          "base_uri": "https://localhost:8080/",
          "height": 675
        },
        "id": "X4ohoDbjClkc",
        "outputId": "b29ebda6-1c27-4608-a9db-26b35fb80c56"
      },
      "outputs": [],
      "source": [
        "# # 3D Plot (Example with 3 features)\n",
        "# fig = plt.figure(figsize=(10, 8))\n",
        "# ax = fig.add_subplot(111, projection='3d')\n",
        "\n",
        "# # Select three features for the 3D plot\n",
        "# x = df['humidity']\n",
        "# y = df['average-wind-speed-(period)']\n",
        "# z = df['power-generated']\n",
        "\n",
        "# ax.scatter(x, y, z, c=z, cmap='viridis')  # Color points based on 'power-generated'\n",
        "\n",
        "# ax.set_xlabel('humidity')\n",
        "# ax.set_ylabel('average-wind-speed-(period)')\n",
        "# ax.set_zlabel('Power Generated')\n",
        "# ax.set_title('3D Scatter Plot')\n",
        "\n",
        "# plt.show()"
      ]
    },
    {
      "cell_type": "code",
      "execution_count": 210,
      "metadata": {
        "colab": {
          "base_uri": "https://localhost:8080/",
          "height": 675
        },
        "id": "n1EJRE7cCmdX",
        "outputId": "5e177717-b8cd-435e-988c-8be39dbc1c5b"
      },
      "outputs": [],
      "source": [
        "# # 3D Plot (Example with 3 features)\n",
        "# fig = plt.figure(figsize=(10, 8))\n",
        "# ax = fig.add_subplot(111, projection='3d')\n",
        "\n",
        "# # Select three features for the 3D plot\n",
        "# x = df['average-pressure-(period)']\n",
        "# y = df['power-generated']\n",
        "# z = df['power-generated']\n",
        "\n",
        "# ax.scatter(x, y, z, c=z, cmap='viridis')  # Color points based on 'power-generated'\n",
        "\n",
        "# ax.set_xlabel('average-pressure-(period)')\n",
        "# ax.set_ylabel('Power Generated')\n",
        "# ax.set_zlabel('Power Generated')\n",
        "# ax.set_title('3D Scatter Plot')\n",
        "\n",
        "# plt.show()"
      ]
    },
    {
      "cell_type": "markdown",
      "metadata": {
        "id": "seHmANCzeZc1"
      },
      "source": [
        "# Boxplots"
      ]
    },
    {
      "cell_type": "code",
      "execution_count": 211,
      "metadata": {
        "colab": {
          "base_uri": "https://localhost:8080/",
          "height": 590
        },
        "id": "IeW4pOD0Q4J3",
        "outputId": "cf64798c-8ceb-4bb9-8b15-303c4fec3a73"
      },
      "outputs": [],
      "source": [
        "# melted_df = pd.melt(df, id_vars=['power-generated'], var_name='Column', value_name='Value')\n",
        "\n",
        "# # Create the boxplots using seaborn\n",
        "# plt.figure(figsize=(15, 10))  # Adjust figure size as needed\n",
        "# sns.boxplot(x='Column', y='Value', hue='power-generated', data=melted_df)\n",
        "# plt.xticks(rotation=45, ha='right')  # Rotate x-axis labels for readability\n",
        "# plt.title('Boxplots of All Columns vs Power Generated')\n",
        "# plt.tight_layout()\n",
        "# plt.show()"
      ]
    },
    {
      "cell_type": "markdown",
      "metadata": {
        "id": "9kiJLe3xeeDx"
      },
      "source": [
        "# All pairplots of dataset"
      ]
    },
    {
      "cell_type": "code",
      "execution_count": 212,
      "metadata": {
        "colab": {
          "base_uri": "https://localhost:8080/",
          "height": 876
        },
        "id": "GNV0l-W95P-5",
        "outputId": "8480b420-30d7-4db0-b976-4bc4835d4ccc"
      },
      "outputs": [],
      "source": [
        "# sns.pairplot(df)\n",
        "# plt.show()"
      ]
    },
    {
      "cell_type": "markdown",
      "metadata": {
        "id": "GijxJL5fejP6"
      },
      "source": [
        "# Correlation Matrix"
      ]
    },
    {
      "cell_type": "code",
      "execution_count": 213,
      "metadata": {
        "colab": {
          "base_uri": "https://localhost:8080/",
          "height": 791
        },
        "id": "G9Qavjtaz5VB",
        "outputId": "0c9d2f0b-e7d8-468f-a1e2-26e4a9b70514"
      },
      "outputs": [
        {
          "data": {
            "image/png": "[encoded data removed]",
            "text/plain": [
              "<Figure size 1000x800 with 2 Axes>"
            ]
          },
          "metadata": {},
          "output_type": "display_data"
        }
      ],
      "source": [
        "#Correlation Matrix\n",
        "plt.figure(figsize=(10,8))\n",
        "sns.heatmap(df.corr(), annot=True, cmap='coolwarm')\n",
        "plt.title(\"Correlation Matrix\")\n",
        "plt.show()"
      ]
    },
    {
      "cell_type": "code",
      "execution_count": 214,
      "metadata": {
        "colab": {
          "base_uri": "https://localhost:8080/",
          "height": 574
        },
        "id": "2HCix5F2Z2p-",
        "outputId": "add67e62-ab13-4d91-b5a3-32c135b2d861"
      },
      "outputs": [
        {
          "data": {
            "text/html": [
              "<div>\n",
              "<style scoped>\n",
              "    .dataframe tbody tr th:only-of-type {\n",
              "        vertical-align: middle;\n",
              "    }\n",
              "\n",
              "    .dataframe tbody tr th {\n",
              "        vertical-align: top;\n",
              "    }\n",
              "\n",
              "    .dataframe thead th {\n",
              "        text-align: right;\n",
              "    }\n",
              "</style>\n",
              "<table border=\"1\" class=\"dataframe\">\n",
              "  <thead>\n",
              "    <tr style=\"text-align: right;\">\n",
              "      <th></th>\n",
              "      <th>distance-to-solar-noon</th>\n",
              "      <th>temperature</th>\n",
              "      <th>wind-direction</th>\n",
              "      <th>wind-speed</th>\n",
              "      <th>sky-cover</th>\n",
              "      <th>visibility</th>\n",
              "      <th>humidity</th>\n",
              "      <th>average-wind-speed-(period)</th>\n",
              "      <th>average-pressure-(period)</th>\n",
              "      <th>power-generated</th>\n",
              "    </tr>\n",
              "  </thead>\n",
              "  <tbody>\n",
              "    <tr>\n",
              "      <th>distance-to-solar-noon</th>\n",
              "      <td>1.000000</td>\n",
              "      <td>-0.138556</td>\n",
              "      <td>-0.097746</td>\n",
              "      <td>-0.110017</td>\n",
              "      <td>-0.047483</td>\n",
              "      <td>0.087183</td>\n",
              "      <td>0.324268</td>\n",
              "      <td>-0.163517</td>\n",
              "      <td>0.071144</td>\n",
              "      <td>-0.726340</td>\n",
              "    </tr>\n",
              "    <tr>\n",
              "      <th>temperature</th>\n",
              "      <td>-0.138556</td>\n",
              "      <td>1.000000</td>\n",
              "      <td>0.341851</td>\n",
              "      <td>0.101848</td>\n",
              "      <td>-0.228630</td>\n",
              "      <td>0.194071</td>\n",
              "      <td>-0.216624</td>\n",
              "      <td>0.050674</td>\n",
              "      <td>-0.430741</td>\n",
              "      <td>0.127488</td>\n",
              "    </tr>\n",
              "    <tr>\n",
              "      <th>wind-direction</th>\n",
              "      <td>-0.097746</td>\n",
              "      <td>0.341851</td>\n",
              "      <td>1.000000</td>\n",
              "      <td>0.340087</td>\n",
              "      <td>-0.129222</td>\n",
              "      <td>0.199800</td>\n",
              "      <td>-0.077375</td>\n",
              "      <td>0.221700</td>\n",
              "      <td>-0.270192</td>\n",
              "      <td>0.120706</td>\n",
              "    </tr>\n",
              "    <tr>\n",
              "      <th>wind-speed</th>\n",
              "      <td>-0.110017</td>\n",
              "      <td>0.101848</td>\n",
              "      <td>0.340087</td>\n",
              "      <td>1.000000</td>\n",
              "      <td>0.123732</td>\n",
              "      <td>0.180561</td>\n",
              "      <td>0.036881</td>\n",
              "      <td>0.660977</td>\n",
              "      <td>-0.390898</td>\n",
              "      <td>0.081047</td>\n",
              "    </tr>\n",
              "    <tr>\n",
              "      <th>sky-cover</th>\n",
              "      <td>-0.047483</td>\n",
              "      <td>-0.228630</td>\n",
              "      <td>-0.129222</td>\n",
              "      <td>0.123732</td>\n",
              "      <td>1.000000</td>\n",
              "      <td>-0.220570</td>\n",
              "      <td>0.383072</td>\n",
              "      <td>0.066767</td>\n",
              "      <td>-0.100183</td>\n",
              "      <td>-0.159621</td>\n",
              "    </tr>\n",
              "    <tr>\n",
              "      <th>visibility</th>\n",
              "      <td>0.087183</td>\n",
              "      <td>0.194071</td>\n",
              "      <td>0.199800</td>\n",
              "      <td>0.180561</td>\n",
              "      <td>-0.220570</td>\n",
              "      <td>1.000000</td>\n",
              "      <td>-0.288095</td>\n",
              "      <td>0.135443</td>\n",
              "      <td>-0.104205</td>\n",
              "      <td>0.053870</td>\n",
              "    </tr>\n",
              "    <tr>\n",
              "      <th>humidity</th>\n",
              "      <td>0.324268</td>\n",
              "      <td>-0.216624</td>\n",
              "      <td>-0.077375</td>\n",
              "      <td>0.036881</td>\n",
              "      <td>0.383072</td>\n",
              "      <td>-0.288095</td>\n",
              "      <td>1.000000</td>\n",
              "      <td>-0.185128</td>\n",
              "      <td>0.007533</td>\n",
              "      <td>-0.482750</td>\n",
              "    </tr>\n",
              "    <tr>\n",
              "      <th>average-wind-speed-(period)</th>\n",
              "      <td>-0.163517</td>\n",
              "      <td>0.050674</td>\n",
              "      <td>0.221700</td>\n",
              "      <td>0.660977</td>\n",
              "      <td>0.066767</td>\n",
              "      <td>0.135443</td>\n",
              "      <td>-0.185128</td>\n",
              "      <td>1.000000</td>\n",
              "      <td>-0.297192</td>\n",
              "      <td>0.199320</td>\n",
              "    </tr>\n",
              "    <tr>\n",
              "      <th>average-pressure-(period)</th>\n",
              "      <td>0.071144</td>\n",
              "      <td>-0.430741</td>\n",
              "      <td>-0.270192</td>\n",
              "      <td>-0.390898</td>\n",
              "      <td>-0.100183</td>\n",
              "      <td>-0.104205</td>\n",
              "      <td>0.007533</td>\n",
              "      <td>-0.297192</td>\n",
              "      <td>1.000000</td>\n",
              "      <td>-0.012404</td>\n",
              "    </tr>\n",
              "    <tr>\n",
              "      <th>power-generated</th>\n",
              "      <td>-0.726340</td>\n",
              "      <td>0.127488</td>\n",
              "      <td>0.120706</td>\n",
              "      <td>0.081047</td>\n",
              "      <td>-0.159621</td>\n",
              "      <td>0.053870</td>\n",
              "      <td>-0.482750</td>\n",
              "      <td>0.199320</td>\n",
              "      <td>-0.012404</td>\n",
              "      <td>1.000000</td>\n",
              "    </tr>\n",
              "  </tbody>\n",
              "</table>\n",
              "</div>"
            ],
            "text/plain": [
              "                             distance-to-solar-noon  temperature  \\\n",
              "distance-to-solar-noon                     1.000000    -0.138556   \n",
              "temperature                               -0.138556     1.000000   \n",
              "wind-direction                            -0.097746     0.341851   \n",
              "wind-speed                                -0.110017     0.101848   \n",
              "sky-cover                                 -0.047483    -0.228630   \n",
              "visibility                                 0.087183     0.194071   \n",
              "humidity                                   0.324268    -0.216624   \n",
              "average-wind-speed-(period)               -0.163517     0.050674   \n",
              "average-pressure-(period)                  0.071144    -0.430741   \n",
              "power-generated                           -0.726340     0.127488   \n",
              "\n",
              "                             wind-direction  wind-speed  sky-cover  \\\n",
              "distance-to-solar-noon            -0.097746   -0.110017  -0.047483   \n",
              "temperature                        0.341851    0.101848  -0.228630   \n",
              "wind-direction                     1.000000    0.340087  -0.129222   \n",
              "wind-speed                         0.340087    1.000000   0.123732   \n",
              "sky-cover                         -0.129222    0.123732   1.000000   \n",
              "visibility                         0.199800    0.180561  -0.220570   \n",
              "humidity                          -0.077375    0.036881   0.383072   \n",
              "average-wind-speed-(period)        0.221700    0.660977   0.066767   \n",
              "average-pressure-(period)         -0.270192   -0.390898  -0.100183   \n",
              "power-generated                    0.120706    0.081047  -0.159621   \n",
              "\n",
              "                             visibility  humidity  \\\n",
              "distance-to-solar-noon         0.087183  0.324268   \n",
              "temperature                    0.194071 -0.216624   \n",
              "wind-direction                 0.199800 -0.077375   \n",
              "wind-speed                     0.180561  0.036881   \n",
              "sky-cover                     -0.220570  0.383072   \n",
              "visibility                     1.000000 -0.288095   \n",
              "humidity                      -0.288095  1.000000   \n",
              "average-wind-speed-(period)    0.135443 -0.185128   \n",
              "average-pressure-(period)     -0.104205  0.007533   \n",
              "power-generated                0.053870 -0.482750   \n",
              "\n",
              "                             average-wind-speed-(period)  \\\n",
              "distance-to-solar-noon                         -0.163517   \n",
              "temperature                                     0.050674   \n",
              "wind-direction                                  0.221700   \n",
              "wind-speed                                      0.660977   \n",
              "sky-cover                                       0.066767   \n",
              "visibility                                      0.135443   \n",
              "humidity                                       -0.185128   \n",
              "average-wind-speed-(period)                     1.000000   \n",
              "average-pressure-(period)                      -0.297192   \n",
              "power-generated                                 0.199320   \n",
              "\n",
              "                             average-pressure-(period)  power-generated  \n",
              "distance-to-solar-noon                        0.071144        -0.726340  \n",
              "temperature                                  -0.430741         0.127488  \n",
              "wind-direction                               -0.270192         0.120706  \n",
              "wind-speed                                   -0.390898         0.081047  \n",
              "sky-cover                                    -0.100183        -0.159621  \n",
              "visibility                                   -0.104205         0.053870  \n",
              "humidity                                      0.007533        -0.482750  \n",
              "average-wind-speed-(period)                  -0.297192         0.199320  \n",
              "average-pressure-(period)                     1.000000        -0.012404  \n",
              "power-generated                              -0.012404         1.000000  "
            ]
          },
          "execution_count": 214,
          "metadata": {},
          "output_type": "execute_result"
        }
      ],
      "source": [
        "correlation_matrix= df.corr()\n",
        "correlation_matrix"
      ]
    },
    {
      "cell_type": "markdown",
      "metadata": {
        "id": "NUbqfyahfKr-"
      },
      "source": [
        "##Feature engineering"
      ]
    },
    {
      "cell_type": "code",
      "execution_count": 215,
      "metadata": {
        "colab": {
          "base_uri": "https://localhost:8080/",
          "height": 495
        },
        "id": "OR3e_vun6Y9n",
        "outputId": "b6c39ef1-471b-4919-869e-13301b282765"
      },
      "outputs": [
        {
          "data": {
            "text/html": [
              "<div>\n",
              "<style scoped>\n",
              "    .dataframe tbody tr th:only-of-type {\n",
              "        vertical-align: middle;\n",
              "    }\n",
              "\n",
              "    .dataframe tbody tr th {\n",
              "        vertical-align: top;\n",
              "    }\n",
              "\n",
              "    .dataframe thead th {\n",
              "        text-align: right;\n",
              "    }\n",
              "</style>\n",
              "<table border=\"1\" class=\"dataframe\">\n",
              "  <thead>\n",
              "    <tr style=\"text-align: right;\">\n",
              "      <th></th>\n",
              "      <th>distance-to-solar-noon</th>\n",
              "      <th>temperature</th>\n",
              "      <th>wind-direction</th>\n",
              "      <th>wind-speed</th>\n",
              "      <th>sky-cover</th>\n",
              "      <th>visibility</th>\n",
              "      <th>humidity</th>\n",
              "      <th>average-wind-speed-(period)</th>\n",
              "      <th>average-pressure-(period)</th>\n",
              "      <th>power-generated</th>\n",
              "    </tr>\n",
              "  </thead>\n",
              "  <tbody>\n",
              "    <tr>\n",
              "      <th>0</th>\n",
              "      <td>0.859897</td>\n",
              "      <td>69</td>\n",
              "      <td>28</td>\n",
              "      <td>7.5</td>\n",
              "      <td>0</td>\n",
              "      <td>10.0</td>\n",
              "      <td>75</td>\n",
              "      <td>8.0</td>\n",
              "      <td>29.82</td>\n",
              "      <td>0</td>\n",
              "    </tr>\n",
              "    <tr>\n",
              "      <th>1</th>\n",
              "      <td>0.628535</td>\n",
              "      <td>69</td>\n",
              "      <td>28</td>\n",
              "      <td>7.5</td>\n",
              "      <td>0</td>\n",
              "      <td>10.0</td>\n",
              "      <td>77</td>\n",
              "      <td>5.0</td>\n",
              "      <td>29.85</td>\n",
              "      <td>0</td>\n",
              "    </tr>\n",
              "    <tr>\n",
              "      <th>2</th>\n",
              "      <td>0.397172</td>\n",
              "      <td>69</td>\n",
              "      <td>28</td>\n",
              "      <td>7.5</td>\n",
              "      <td>0</td>\n",
              "      <td>10.0</td>\n",
              "      <td>70</td>\n",
              "      <td>0.0</td>\n",
              "      <td>29.89</td>\n",
              "      <td>5418</td>\n",
              "    </tr>\n",
              "    <tr>\n",
              "      <th>3</th>\n",
              "      <td>0.165810</td>\n",
              "      <td>69</td>\n",
              "      <td>28</td>\n",
              "      <td>7.5</td>\n",
              "      <td>0</td>\n",
              "      <td>10.0</td>\n",
              "      <td>33</td>\n",
              "      <td>0.0</td>\n",
              "      <td>29.91</td>\n",
              "      <td>25477</td>\n",
              "    </tr>\n",
              "    <tr>\n",
              "      <th>4</th>\n",
              "      <td>0.065553</td>\n",
              "      <td>69</td>\n",
              "      <td>28</td>\n",
              "      <td>7.5</td>\n",
              "      <td>0</td>\n",
              "      <td>10.0</td>\n",
              "      <td>21</td>\n",
              "      <td>3.0</td>\n",
              "      <td>29.89</td>\n",
              "      <td>30069</td>\n",
              "    </tr>\n",
              "    <tr>\n",
              "      <th>...</th>\n",
              "      <td>...</td>\n",
              "      <td>...</td>\n",
              "      <td>...</td>\n",
              "      <td>...</td>\n",
              "      <td>...</td>\n",
              "      <td>...</td>\n",
              "      <td>...</td>\n",
              "      <td>...</td>\n",
              "      <td>...</td>\n",
              "      <td>...</td>\n",
              "    </tr>\n",
              "    <tr>\n",
              "      <th>2915</th>\n",
              "      <td>0.166453</td>\n",
              "      <td>63</td>\n",
              "      <td>27</td>\n",
              "      <td>13.9</td>\n",
              "      <td>4</td>\n",
              "      <td>10.0</td>\n",
              "      <td>75</td>\n",
              "      <td>10.0</td>\n",
              "      <td>29.93</td>\n",
              "      <td>6995</td>\n",
              "    </tr>\n",
              "    <tr>\n",
              "      <th>2916</th>\n",
              "      <td>0.064020</td>\n",
              "      <td>63</td>\n",
              "      <td>27</td>\n",
              "      <td>13.9</td>\n",
              "      <td>1</td>\n",
              "      <td>10.0</td>\n",
              "      <td>66</td>\n",
              "      <td>15.0</td>\n",
              "      <td>29.91</td>\n",
              "      <td>29490</td>\n",
              "    </tr>\n",
              "    <tr>\n",
              "      <th>2917</th>\n",
              "      <td>0.294494</td>\n",
              "      <td>63</td>\n",
              "      <td>27</td>\n",
              "      <td>13.9</td>\n",
              "      <td>2</td>\n",
              "      <td>10.0</td>\n",
              "      <td>68</td>\n",
              "      <td>21.0</td>\n",
              "      <td>29.88</td>\n",
              "      <td>17257</td>\n",
              "    </tr>\n",
              "    <tr>\n",
              "      <th>2918</th>\n",
              "      <td>0.524968</td>\n",
              "      <td>63</td>\n",
              "      <td>27</td>\n",
              "      <td>13.9</td>\n",
              "      <td>2</td>\n",
              "      <td>10.0</td>\n",
              "      <td>81</td>\n",
              "      <td>17.0</td>\n",
              "      <td>29.87</td>\n",
              "      <td>677</td>\n",
              "    </tr>\n",
              "    <tr>\n",
              "      <th>2919</th>\n",
              "      <td>0.755442</td>\n",
              "      <td>63</td>\n",
              "      <td>27</td>\n",
              "      <td>13.9</td>\n",
              "      <td>1</td>\n",
              "      <td>10.0</td>\n",
              "      <td>81</td>\n",
              "      <td>11.0</td>\n",
              "      <td>29.90</td>\n",
              "      <td>0</td>\n",
              "    </tr>\n",
              "  </tbody>\n",
              "</table>\n",
              "<p>2813 rows × 10 columns</p>\n",
              "</div>"
            ],
            "text/plain": [
              "      distance-to-solar-noon  temperature  wind-direction  wind-speed  \\\n",
              "0                   0.859897           69              28         7.5   \n",
              "1                   0.628535           69              28         7.5   \n",
              "2                   0.397172           69              28         7.5   \n",
              "3                   0.165810           69              28         7.5   \n",
              "4                   0.065553           69              28         7.5   \n",
              "...                      ...          ...             ...         ...   \n",
              "2915                0.166453           63              27        13.9   \n",
              "2916                0.064020           63              27        13.9   \n",
              "2917                0.294494           63              27        13.9   \n",
              "2918                0.524968           63              27        13.9   \n",
              "2919                0.755442           63              27        13.9   \n",
              "\n",
              "      sky-cover  visibility  humidity  average-wind-speed-(period)  \\\n",
              "0             0        10.0        75                          8.0   \n",
              "1             0        10.0        77                          5.0   \n",
              "2             0        10.0        70                          0.0   \n",
              "3             0        10.0        33                          0.0   \n",
              "4             0        10.0        21                          3.0   \n",
              "...         ...         ...       ...                          ...   \n",
              "2915          4        10.0        75                         10.0   \n",
              "2916          1        10.0        66                         15.0   \n",
              "2917          2        10.0        68                         21.0   \n",
              "2918          2        10.0        81                         17.0   \n",
              "2919          1        10.0        81                         11.0   \n",
              "\n",
              "      average-pressure-(period)  power-generated  \n",
              "0                         29.82                0  \n",
              "1                         29.85                0  \n",
              "2                         29.89             5418  \n",
              "3                         29.91            25477  \n",
              "4                         29.89            30069  \n",
              "...                         ...              ...  \n",
              "2915                      29.93             6995  \n",
              "2916                      29.91            29490  \n",
              "2917                      29.88            17257  \n",
              "2918                      29.87              677  \n",
              "2919                      29.90                0  \n",
              "\n",
              "[2813 rows x 10 columns]"
            ]
          },
          "execution_count": 215,
          "metadata": {},
          "output_type": "execute_result"
        }
      ],
      "source": [
        "df"
      ]
    },
    {
      "cell_type": "markdown",
      "metadata": {
        "id": "Cj7dLCgY6kR3"
      },
      "source": [
        "Model building"
      ]
    },
    {
      "cell_type": "code",
      "execution_count": 216,
      "metadata": {},
      "outputs": [],
      "source": [
        "from sklearn.model_selection import train_test_split\n",
        "from sklearn.metrics import r2_score, mean_squared_error,accuracy_score,classification_report\n",
        "from sklearn.linear_model import LinearRegression, Lasso, Ridge\n",
        "from sklearn.preprocessing import StandardScaler, MinMaxScaler\n",
        "import lightgbm as lgb\n",
        "import xgboost as xgb\n",
        "from sklearn.ensemble import RandomForestRegressor, AdaBoostRegressor, BaggingRegressor, GradientBoostingRegressor"
      ]
    },
    {
      "cell_type": "code",
      "execution_count": 217,
      "metadata": {
        "id": "dSeKJjXK6edw"
      },
      "outputs": [],
      "source": [
        "x = df.drop('power-generated',axis=1)\n",
        "y = df['power-generated']"
      ]
    },
    {
      "cell_type": "code",
      "execution_count": 218,
      "metadata": {
        "id": "fwTeJY5d6wra"
      },
      "outputs": [],
      "source": [
        "x_train,x_test,y_train,y_test= train_test_split(x,y,train_size=0.80,random_state=100)"
      ]
    },
    {
      "cell_type": "code",
      "execution_count": 219,
      "metadata": {
        "colab": {
          "base_uri": "https://localhost:8080/"
        },
        "id": "YkgsxvWW6zCR",
        "outputId": "10067f35-1d63-4eea-e975-4578ffa53221"
      },
      "outputs": [
        {
          "name": "stdout",
          "output_type": "stream",
          "text": [
            "(2250, 9)\n",
            "(563, 9)\n",
            "(2250,)\n",
            "(563,)\n"
          ]
        }
      ],
      "source": [
        "print(x_train.shape)\n",
        "print(x_test.shape)\n",
        "print(y_train.shape)\n",
        "print(y_test.shape)"
      ]
    },
    {
      "cell_type": "code",
      "execution_count": 220,
      "metadata": {
        "id": "-uOyRREY9N6X"
      },
      "outputs": [],
      "source": [
        "scaler = StandardScaler()"
      ]
    },
    {
      "cell_type": "code",
      "execution_count": 221,
      "metadata": {
        "id": "zYchWUKM9TmH"
      },
      "outputs": [],
      "source": [
        "x_train_scaled = scaler.fit_transform(x_train)"
      ]
    },
    {
      "cell_type": "code",
      "execution_count": 222,
      "metadata": {
        "id": "6KYXK_yP9W3h"
      },
      "outputs": [],
      "source": [
        "x_test_scaled = scaler.transform(x_test)"
      ]
    },
    {
      "cell_type": "code",
      "execution_count": 223,
      "metadata": {},
      "outputs": [],
      "source": [
        "models = []\n",
        "\n",
        "names = [\n",
        "    \"lgb.LGBMRegressor()\",\n",
        "    \"DecisionTreeRegressor\",\n",
        "    \"BaggingRegressor\",\n",
        "    \"RandomForestRegressor\",\n",
        "    \"GradientBoostingRegressor\",\n",
        "    \"AdaBoostRegressor\",\n",
        "    \"xgb.XGBRegressor\"\n",
        "]\n",
        "\n",
        "scores = []\n",
        "r2_square_v=[]\n",
        "mae_v=[]\n",
        "mse_v=[]\n",
        "rmse_v=[]\n",
        "\n",
        "clf = [\n",
        "    lgb.LGBMRegressor(),\n",
        "    BaggingRegressor(),\n",
        "    RandomForestRegressor(n_estimators=40),\n",
        "    GradientBoostingRegressor(n_estimators=70),\n",
        "    AdaBoostRegressor(n_estimators=50),\n",
        "    xgb.XGBRegressor()  \n",
        "\n",
        "]"
      ]
    },
    {
      "cell_type": "code",
      "execution_count": 224,
      "metadata": {},
      "outputs": [
        {
          "name": "stdout",
          "output_type": "stream",
          "text": [
            "[LightGBM] [Info] Auto-choosing col-wise multi-threading, the overhead of testing was 0.000531 seconds.\n",
            "You can set `force_col_wise=true` to remove the overhead.\n",
            "[LightGBM] [Info] Total Bins 683\n",
            "[LightGBM] [Info] Number of data points in the train set: 2250, number of used features: 9\n",
            "[LightGBM] [Info] Start training from score 5990.674667\n"
          ]
        },
        {
          "data": {
            "text/html": [
              "<style type=\"text/css\">\n",
              "#T_e39c6_row0_col0, #T_e39c6_row1_col0, #T_e39c6_row2_col0, #T_e39c6_row3_col0, #T_e39c6_row4_col0, #T_e39c6_row5_col0 {\n",
              "  font-family: Comic Sans MS;\n",
              "  color: Brown;\n",
              "  font-size: 15px;\n",
              "}\n",
              "#T_e39c6_row0_col1, #T_e39c6_row1_col1, #T_e39c6_row2_col1 {\n",
              "  background-color: #17becf;\n",
              "  color: #000000;\n",
              "  font-family: Comic Sans MS;\n",
              "  color: Brown;\n",
              "  font-size: 15px;\n",
              "}\n",
              "#T_e39c6_row3_col1 {\n",
              "  background-color: #bcbd22;\n",
              "  color: #000000;\n",
              "  font-family: Comic Sans MS;\n",
              "  color: Brown;\n",
              "  font-size: 15px;\n",
              "}\n",
              "#T_e39c6_row4_col1 {\n",
              "  background-color: #7f7f7f;\n",
              "  color: #f1f1f1;\n",
              "  font-family: Comic Sans MS;\n",
              "  color: Brown;\n",
              "  font-size: 15px;\n",
              "}\n",
              "#T_e39c6_row5_col1 {\n",
              "  background-color: #1f77b4;\n",
              "  color: #f1f1f1;\n",
              "  font-family: Comic Sans MS;\n",
              "  color: Brown;\n",
              "  font-size: 15px;\n",
              "}\n",
              "</style>\n",
              "<table id=\"T_e39c6\">\n",
              "  <thead>\n",
              "    <tr>\n",
              "      <th class=\"blank level0\" >&nbsp;</th>\n",
              "      <th id=\"T_e39c6_level0_col0\" class=\"col_heading level0 col0\" >Regressor</th>\n",
              "      <th id=\"T_e39c6_level0_col1\" class=\"col_heading level0 col1\" >Accuracy</th>\n",
              "    </tr>\n",
              "  </thead>\n",
              "  <tbody>\n",
              "    <tr>\n",
              "      <th id=\"T_e39c6_level0_row0\" class=\"row_heading level0 row0\" >2</th>\n",
              "      <td id=\"T_e39c6_row0_col0\" class=\"data row0 col0\" >BaggingRegressor</td>\n",
              "      <td id=\"T_e39c6_row0_col1\" class=\"data row0 col1\" >0.913635</td>\n",
              "    </tr>\n",
              "    <tr>\n",
              "      <th id=\"T_e39c6_level0_row1\" class=\"row_heading level0 row1\" >0</th>\n",
              "      <td id=\"T_e39c6_row1_col0\" class=\"data row1 col0\" >lgb.LGBMRegressor()</td>\n",
              "      <td id=\"T_e39c6_row1_col1\" class=\"data row1 col1\" >0.913083</td>\n",
              "    </tr>\n",
              "    <tr>\n",
              "      <th id=\"T_e39c6_level0_row2\" class=\"row_heading level0 row2\" >3</th>\n",
              "      <td id=\"T_e39c6_row2_col0\" class=\"data row2 col0\" >RandomForestRegressor</td>\n",
              "      <td id=\"T_e39c6_row2_col1\" class=\"data row2 col1\" >0.909308</td>\n",
              "    </tr>\n",
              "    <tr>\n",
              "      <th id=\"T_e39c6_level0_row3\" class=\"row_heading level0 row3\" >5</th>\n",
              "      <td id=\"T_e39c6_row3_col0\" class=\"data row3 col0\" >AdaBoostRegressor</td>\n",
              "      <td id=\"T_e39c6_row3_col1\" class=\"data row3 col1\" >0.902013</td>\n",
              "    </tr>\n",
              "    <tr>\n",
              "      <th id=\"T_e39c6_level0_row4\" class=\"row_heading level0 row4\" >1</th>\n",
              "      <td id=\"T_e39c6_row4_col0\" class=\"data row4 col0\" >DecisionTreeRegressor</td>\n",
              "      <td id=\"T_e39c6_row4_col1\" class=\"data row4 col1\" >0.895436</td>\n",
              "    </tr>\n",
              "    <tr>\n",
              "      <th id=\"T_e39c6_level0_row5\" class=\"row_heading level0 row5\" >4</th>\n",
              "      <td id=\"T_e39c6_row5_col0\" class=\"data row5 col0\" >GradientBoostingRegressor</td>\n",
              "      <td id=\"T_e39c6_row5_col1\" class=\"data row5 col1\" >0.825700</td>\n",
              "    </tr>\n",
              "  </tbody>\n",
              "</table>\n"
            ],
            "text/plain": [
              "<pandas.io.formats.style.Styler at 0x287d411ae90>"
            ]
          },
          "execution_count": 224,
          "metadata": {},
          "output_type": "execute_result"
        }
      ],
      "source": [
        "for model in clf:\n",
        "    model.fit(x_train_scaled, y_train)\n",
        "    score = model.score(x_test_scaled, y_test)\n",
        "    scores.append(score)\n",
        " \n",
        "final_scores = pd.DataFrame(zip(names,scores), columns=['Regressor', 'Accuracy'])\n",
        "\n",
        "final_scores.sort_values(by='Accuracy',ascending=False).style.background_gradient(cmap=\"tab10\").set_properties(**{\n",
        "            'font-family': 'Comic Sans MS',\n",
        "            'color': 'Brown',\n",
        "            'font-size': '15px'\n",
        "        })"
      ]
    },
    {
      "cell_type": "code",
      "execution_count": 225,
      "metadata": {},
      "outputs": [
        {
          "name": "stdout",
          "output_type": "stream",
          "text": [
            "[LightGBM] [Info] Auto-choosing col-wise multi-threading, the overhead of testing was 0.000137 seconds.\n",
            "You can set `force_col_wise=true` to remove the overhead.\n",
            "[LightGBM] [Info] Total Bins 681\n",
            "[LightGBM] [Info] Number of data points in the train set: 2250, number of used features: 9\n",
            "[LightGBM] [Info] Start training from score 5990.674667\n"
          ]
        },
        {
          "data": {
            "text/html": [
              "<style type=\"text/css\">\n",
              "#T_7cafc_row0_col0, #T_7cafc_row1_col0, #T_7cafc_row2_col0, #T_7cafc_row3_col0, #T_7cafc_row4_col0, #T_7cafc_row5_col0 {\n",
              "  font-family: Comic Sans MS;\n",
              "  color: Brown;\n",
              "  font-size: 15px;\n",
              "}\n",
              "#T_7cafc_row0_col1, #T_7cafc_row1_col1, #T_7cafc_row2_col1, #T_7cafc_row5_col2, #T_7cafc_row5_col3, #T_7cafc_row5_col4 {\n",
              "  background-color: #17becf;\n",
              "  color: #000000;\n",
              "  font-family: Comic Sans MS;\n",
              "  color: Brown;\n",
              "  font-size: 15px;\n",
              "}\n",
              "#T_7cafc_row0_col2, #T_7cafc_row0_col3, #T_7cafc_row0_col4, #T_7cafc_row1_col2, #T_7cafc_row1_col3, #T_7cafc_row1_col4, #T_7cafc_row2_col3, #T_7cafc_row2_col4, #T_7cafc_row4_col2, #T_7cafc_row5_col1 {\n",
              "  background-color: #1f77b4;\n",
              "  color: #f1f1f1;\n",
              "  font-family: Comic Sans MS;\n",
              "  color: Brown;\n",
              "  font-size: 15px;\n",
              "}\n",
              "#T_7cafc_row2_col2, #T_7cafc_row4_col4 {\n",
              "  background-color: #2ca02c;\n",
              "  color: #f1f1f1;\n",
              "  font-family: Comic Sans MS;\n",
              "  color: Brown;\n",
              "  font-size: 15px;\n",
              "}\n",
              "#T_7cafc_row3_col1, #T_7cafc_row4_col1 {\n",
              "  background-color: #bcbd22;\n",
              "  color: #000000;\n",
              "  font-family: Comic Sans MS;\n",
              "  color: Brown;\n",
              "  font-size: 15px;\n",
              "}\n",
              "#T_7cafc_row3_col2, #T_7cafc_row3_col3, #T_7cafc_row3_col4, #T_7cafc_row4_col3 {\n",
              "  background-color: #ff7f0e;\n",
              "  color: #f1f1f1;\n",
              "  font-family: Comic Sans MS;\n",
              "  color: Brown;\n",
              "  font-size: 15px;\n",
              "}\n",
              "</style>\n",
              "<table id=\"T_7cafc\">\n",
              "  <thead>\n",
              "    <tr>\n",
              "      <th class=\"blank level0\" >&nbsp;</th>\n",
              "      <th id=\"T_7cafc_level0_col0\" class=\"col_heading level0 col0\" >Regressor</th>\n",
              "      <th id=\"T_7cafc_level0_col1\" class=\"col_heading level0 col1\" >r2_square</th>\n",
              "      <th id=\"T_7cafc_level0_col2\" class=\"col_heading level0 col2\" >mae</th>\n",
              "      <th id=\"T_7cafc_level0_col3\" class=\"col_heading level0 col3\" >mse</th>\n",
              "      <th id=\"T_7cafc_level0_col4\" class=\"col_heading level0 col4\" >rmse</th>\n",
              "    </tr>\n",
              "  </thead>\n",
              "  <tbody>\n",
              "    <tr>\n",
              "      <th id=\"T_7cafc_level0_row0\" class=\"row_heading level0 row0\" >0</th>\n",
              "      <td id=\"T_7cafc_row0_col0\" class=\"data row0 col0\" >lgb.LGBMRegressor()</td>\n",
              "      <td id=\"T_7cafc_row0_col1\" class=\"data row0 col1\" >0.913880</td>\n",
              "      <td id=\"T_7cafc_row0_col2\" class=\"data row0 col2\" >1302.711291</td>\n",
              "      <td id=\"T_7cafc_row0_col3\" class=\"data row0 col3\" >6892268.578364</td>\n",
              "      <td id=\"T_7cafc_row0_col4\" class=\"data row0 col4\" >2625.313044</td>\n",
              "    </tr>\n",
              "    <tr>\n",
              "      <th id=\"T_7cafc_level0_row1\" class=\"row_heading level0 row1\" >2</th>\n",
              "      <td id=\"T_7cafc_row1_col0\" class=\"data row1 col0\" >BaggingRegressor</td>\n",
              "      <td id=\"T_7cafc_row1_col1\" class=\"data row1 col1\" >0.913009</td>\n",
              "      <td id=\"T_7cafc_row1_col2\" class=\"data row1 col2\" >1272.509147</td>\n",
              "      <td id=\"T_7cafc_row1_col3\" class=\"data row1 col3\" >6961991.147433</td>\n",
              "      <td id=\"T_7cafc_row1_col4\" class=\"data row1 col4\" >2638.558536</td>\n",
              "    </tr>\n",
              "    <tr>\n",
              "      <th id=\"T_7cafc_level0_row2\" class=\"row_heading level0 row2\" >3</th>\n",
              "      <td id=\"T_7cafc_row2_col0\" class=\"data row2 col0\" >RandomForestRegressor</td>\n",
              "      <td id=\"T_7cafc_row2_col1\" class=\"data row2 col1\" >0.909521</td>\n",
              "      <td id=\"T_7cafc_row2_col2\" class=\"data row2 col2\" >1477.477179</td>\n",
              "      <td id=\"T_7cafc_row2_col3\" class=\"data row2 col3\" >7241131.681965</td>\n",
              "      <td id=\"T_7cafc_row2_col4\" class=\"data row2 col4\" >2690.935094</td>\n",
              "    </tr>\n",
              "    <tr>\n",
              "      <th id=\"T_7cafc_level0_row3\" class=\"row_heading level0 row3\" >5</th>\n",
              "      <td id=\"T_7cafc_row3_col0\" class=\"data row3 col0\" >AdaBoostRegressor</td>\n",
              "      <td id=\"T_7cafc_row3_col1\" class=\"data row3 col1\" >0.902013</td>\n",
              "      <td id=\"T_7cafc_row3_col2\" class=\"data row3 col2\" >1377.470010</td>\n",
              "      <td id=\"T_7cafc_row3_col3\" class=\"data row3 col3\" >7841990.325039</td>\n",
              "      <td id=\"T_7cafc_row3_col4\" class=\"data row3 col4\" >2800.355393</td>\n",
              "    </tr>\n",
              "    <tr>\n",
              "      <th id=\"T_7cafc_level0_row4\" class=\"row_heading level0 row4\" >1</th>\n",
              "      <td id=\"T_7cafc_row4_col0\" class=\"data row4 col0\" >DecisionTreeRegressor</td>\n",
              "      <td id=\"T_7cafc_row4_col1\" class=\"data row4 col1\" >0.900249</td>\n",
              "      <td id=\"T_7cafc_row4_col2\" class=\"data row4 col2\" >1350.860746</td>\n",
              "      <td id=\"T_7cafc_row4_col3\" class=\"data row4 col3\" >7983152.598259</td>\n",
              "      <td id=\"T_7cafc_row4_col4\" class=\"data row4 col4\" >2825.447327</td>\n",
              "    </tr>\n",
              "    <tr>\n",
              "      <th id=\"T_7cafc_level0_row5\" class=\"row_heading level0 row5\" >4</th>\n",
              "      <td id=\"T_7cafc_row5_col0\" class=\"data row5 col0\" >GradientBoostingRegressor</td>\n",
              "      <td id=\"T_7cafc_row5_col1\" class=\"data row5 col1\" >0.839104</td>\n",
              "      <td id=\"T_7cafc_row5_col2\" class=\"data row5 col2\" >2059.769299</td>\n",
              "      <td id=\"T_7cafc_row5_col3\" class=\"data row5 col3\" >12876599.984727</td>\n",
              "      <td id=\"T_7cafc_row5_col4\" class=\"data row5 col4\" >3588.397969</td>\n",
              "    </tr>\n",
              "  </tbody>\n",
              "</table>\n"
            ],
            "text/plain": [
              "<pandas.io.formats.style.Styler at 0x2879cb1c190>"
            ]
          },
          "execution_count": 225,
          "metadata": {},
          "output_type": "execute_result"
        }
      ],
      "source": [
        "for model in clf:\n",
        "    model.fit(x_train, y_train)\n",
        "    y_train_pred = model.predict(x_train)\n",
        "    y_test_pred = model.predict(x_test)\n",
        "    mae = metrics.mean_absolute_error(y_test, y_test_pred)\n",
        "    rmse = np.sqrt(metrics.mean_squared_error(y_test, y_test_pred))\n",
        "    mse = metrics.mean_squared_error(y_test, y_test_pred)\n",
        "    r2_square = metrics.r2_score(y_test, y_test_pred)\n",
        "    r2_square_v.append(r2_square)\n",
        "    mae_v.append(mae)\n",
        "    rmse_v.append(rmse)\n",
        "    mse_v.append(mse)\n",
        " \n",
        "final_scores = pd.DataFrame(zip(names,r2_square_v,mae_v,mse_v,rmse_v), columns=['Regressor', 'r2_square','mae','mse','rmse'])\n",
        "\n",
        "final_scores.sort_values(by='r2_square',ascending=False).style.background_gradient(cmap=\"tab10\").set_properties(**{\n",
        "            'font-family': 'Comic Sans MS',\n",
        "            'color': 'Brown',\n",
        "            'font-size': '15px'\n",
        "        })"
      ]
    },
    {
      "cell_type": "code",
      "execution_count": 226,
      "metadata": {},
      "outputs": [
        {
          "name": "stdout",
          "output_type": "stream",
          "text": [
            "[LightGBM] [Info] Auto-choosing col-wise multi-threading, the overhead of testing was 0.000173 seconds.\n",
            "You can set `force_col_wise=true` to remove the overhead.\n",
            "[LightGBM] [Info] Total Bins 681\n",
            "[LightGBM] [Info] Number of data points in the train set: 2250, number of used features: 9\n",
            "[LightGBM] [Info] Start training from score 5990.674667\n"
          ]
        }
      ],
      "source": [
        "lgbm_reg = lgb.LGBMRegressor()\n",
        "lgbm_reg.fit(x_train, y_train) \n",
        "# predicting on the test dataset \n",
        "y_pred = lgbm_reg.predict(x_test) "
      ]
    },
    {
      "cell_type": "code",
      "execution_count": 227,
      "metadata": {},
      "outputs": [],
      "source": [
        "# pickling the model \n",
        "import pickle \n",
        "pickle_out = open(\"lgbm_reg.pkl\", \"wb\") \n",
        "pickle.dump(lgbm_reg, pickle_out) \n",
        "pickle_out.close()"
      ]
    }
  ],
  "metadata": {
    "accelerator": "GPU",
    "colab": {
      "gpuType": "T4",
      "provenance": []
    },
    "kernelspec": {
      "display_name": "Python 3",
      "name": "python3"
    },
    "language_info": {
      "codemirror_mode": {
        "name": "ipython",
        "version": 3
      },
      "file_extension": ".py",
      "mimetype": "text/x-python",
      "name": "python",
      "nbconvert_exporter": "python",
      "pygments_lexer": "ipython3",
      "version": "3.13.0"
    }
  },
  "nbformat": 4,
  "nbformat_minor": 0
}
